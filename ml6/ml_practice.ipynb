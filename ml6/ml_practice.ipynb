{
 "cells": [
  {
   "cell_type": "code",
   "execution_count": 17,
   "metadata": {},
   "outputs": [],
   "source": [
    "import pandas as pd\n",
    "from sklearn import feature_selection\n",
    "from sklearn import linear_model\n",
    "from sklearn import model_selection\n",
    "from sklearn import metrics\n"
   ]
  },
  {
   "cell_type": "code",
   "execution_count": 6,
   "metadata": {},
   "outputs": [],
   "source": [
    "df = pd.read_excel('data/data_ford_price.xlsx')"
   ]
  },
  {
   "cell_type": "code",
   "execution_count": 7,
   "metadata": {},
   "outputs": [],
   "source": [
    "df.dropna(inplace=True)"
   ]
  },
  {
   "cell_type": "code",
   "execution_count": 12,
   "metadata": {},
   "outputs": [],
   "source": [
    "data = df[['price','year', 'cylinders', 'odometer', 'lat', 'long', 'weather']].copy()\n",
    "data.dropna(inplace=True)"
   ]
  },
  {
   "cell_type": "code",
   "execution_count": 13,
   "metadata": {},
   "outputs": [],
   "source": [
    "y = data['price']\n",
    "X = data.drop('price', axis=1)"
   ]
  },
  {
   "cell_type": "code",
   "execution_count": 14,
   "metadata": {},
   "outputs": [],
   "source": [
    "X_train, X_test, y_train, y_test = model_selection.train_test_split(X, y, test_size=0.3, random_state=40)"
   ]
  },
  {
   "cell_type": "code",
   "execution_count": 21,
   "metadata": {},
   "outputs": [
    {
     "name": "stdout",
     "output_type": "stream",
     "text": [
      "MAE:  5143.043512901155\n"
     ]
    }
   ],
   "source": [
    "model = linear_model.LinearRegression()\n",
    "selector = feature_selection.RFE(estimator=model, n_features_to_select=3, step=1)\n",
    "\n",
    "selector.fit(X_train, y_train)\n",
    "mask = selector.get_support()\n",
    "features = X_train.columns[mask]\n",
    "X_train_best = X_train[features].copy()\n",
    "X_test_best = X_test[features].copy()\n",
    "\n",
    "model.fit(X_train_best, y_train)\n",
    "y_pred = model.predict(X_test_best)\n",
    "\n",
    "print('MAE: ', metrics.mean_absolute_error(y_test, y_pred))\n"
   ]
  },
  {
   "cell_type": "code",
   "execution_count": 22,
   "metadata": {},
   "outputs": [
    {
     "name": "stdout",
     "output_type": "stream",
     "text": [
      "MAE:  4660.91385229197\n"
     ]
    }
   ],
   "source": [
    "selector = feature_selection.SelectKBest(feature_selection.f_regression, k=3)\n",
    "selector.fit(X_train, y_train)\n",
    "\n",
    "mask = selector.get_support()\n",
    "features = X_train.columns[mask]\n",
    "\n",
    "X_train_best = X_train[features].copy()\n",
    "X_test_best = X_test[features].copy()\n",
    "\n",
    "model = linear_model.LinearRegression()\n",
    "model.fit(X_train_best, y_train)\n",
    "y_pred = model.predict(X_test_best)\n",
    "\n",
    "print('MAE: ', metrics.mean_absolute_error(y_test, y_pred))"
   ]
  }
 ],
 "metadata": {
  "kernelspec": {
   "display_name": "Python 3.8.11 ('sf')",
   "language": "python",
   "name": "python3"
  },
  "language_info": {
   "codemirror_mode": {
    "name": "ipython",
    "version": 3
   },
   "file_extension": ".py",
   "mimetype": "text/x-python",
   "name": "python",
   "nbconvert_exporter": "python",
   "pygments_lexer": "ipython3",
   "version": "3.8.11"
  },
  "orig_nbformat": 4,
  "vscode": {
   "interpreter": {
    "hash": "8735010b092e0503e8d34865b02b1302d4a926fff961a3bbb94d7f101832b68a"
   }
  }
 },
 "nbformat": 4,
 "nbformat_minor": 2
}
