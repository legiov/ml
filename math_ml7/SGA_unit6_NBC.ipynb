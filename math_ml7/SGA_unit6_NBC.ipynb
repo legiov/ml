{
  "cells": [
    {
      "cell_type": "markdown",
      "id": "00009cca",
      "metadata": {
        "id": "00009cca"
      },
      "source": [
        "# Классификация текстов с использованием Наивного Байесовского Классификатора"
      ]
    },
    {
      "cell_type": "markdown",
      "id": "a52414b8",
      "metadata": {
        "id": "a52414b8"
      },
      "source": [
        "## Задание 1 (1 балл)"
      ]
    },
    {
      "cell_type": "markdown",
      "id": "f5f27b43",
      "metadata": {
        "id": "f5f27b43"
      },
      "source": [
        "Откройте данные. Узнайте, сколько в них спам- и не спам-писем. Визуализируйте полученные соотношение подходящим образом."
      ]
    },
    {
      "cell_type": "code",
      "execution_count": 128,
      "id": "bd56fdca",
      "metadata": {},
      "outputs": [],
      "source": [
        "import pandas as pd\n",
        "import numpy as np\n",
        "import seaborn as sns\n",
        "import matplotlib.pyplot as plt\n",
        "from sklearn import model_selection"
      ]
    },
    {
      "cell_type": "code",
      "execution_count": 129,
      "id": "ac369274",
      "metadata": {
        "id": "ac369274"
      },
      "outputs": [
        {
          "data": {
            "text/html": [
              "<div>\n",
              "<style scoped>\n",
              "    .dataframe tbody tr th:only-of-type {\n",
              "        vertical-align: middle;\n",
              "    }\n",
              "\n",
              "    .dataframe tbody tr th {\n",
              "        vertical-align: top;\n",
              "    }\n",
              "\n",
              "    .dataframe thead th {\n",
              "        text-align: right;\n",
              "    }\n",
              "</style>\n",
              "<table border=\"1\" class=\"dataframe\">\n",
              "  <thead>\n",
              "    <tr style=\"text-align: right;\">\n",
              "      <th></th>\n",
              "      <th>email</th>\n",
              "      <th>label</th>\n",
              "    </tr>\n",
              "  </thead>\n",
              "  <tbody>\n",
              "    <tr>\n",
              "      <th>0</th>\n",
              "      <td>date wed NUMBER aug NUMBER NUMBER NUMBER NUMB...</td>\n",
              "      <td>0</td>\n",
              "    </tr>\n",
              "    <tr>\n",
              "      <th>1</th>\n",
              "      <td>martin a posted tassos papadopoulos the greek ...</td>\n",
              "      <td>0</td>\n",
              "    </tr>\n",
              "    <tr>\n",
              "      <th>2</th>\n",
              "      <td>man threatens explosion in moscow thursday aug...</td>\n",
              "      <td>0</td>\n",
              "    </tr>\n",
              "    <tr>\n",
              "      <th>3</th>\n",
              "      <td>klez the virus that won t die already the most...</td>\n",
              "      <td>0</td>\n",
              "    </tr>\n",
              "    <tr>\n",
              "      <th>4</th>\n",
              "      <td>in adding cream to spaghetti carbonara which ...</td>\n",
              "      <td>0</td>\n",
              "    </tr>\n",
              "  </tbody>\n",
              "</table>\n",
              "</div>"
            ],
            "text/plain": [
              "                                               email  label\n",
              "0   date wed NUMBER aug NUMBER NUMBER NUMBER NUMB...      0\n",
              "1  martin a posted tassos papadopoulos the greek ...      0\n",
              "2  man threatens explosion in moscow thursday aug...      0\n",
              "3  klez the virus that won t die already the most...      0\n",
              "4   in adding cream to spaghetti carbonara which ...      0"
            ]
          },
          "execution_count": 129,
          "metadata": {},
          "output_type": "execute_result"
        }
      ],
      "source": [
        "df = pd.read_csv('data/spam_or_not_spam.csv')\n",
        "df.head()"
      ]
    },
    {
      "cell_type": "code",
      "execution_count": 130,
      "id": "f4231781",
      "metadata": {
        "id": "f4231781"
      },
      "outputs": [
        {
          "data": {
            "text/plain": [
              "0    2500\n",
              "1     500\n",
              "Name: label, dtype: int64"
            ]
          },
          "execution_count": 130,
          "metadata": {},
          "output_type": "execute_result"
        }
      ],
      "source": [
        "df['label'].value_counts()"
      ]
    },
    {
      "cell_type": "code",
      "execution_count": 131,
      "id": "9b871636",
      "metadata": {
        "id": "9b871636"
      },
      "outputs": [
        {
          "data": {
            "image/png": "[encoded data removed]",
            "text/plain": [
              "<Figure size 720x360 with 1 Axes>"
            ]
          },
          "metadata": {
            "needs_background": "light"
          },
          "output_type": "display_data"
        }
      ],
      "source": [
        "import seaborn as sns\n",
        "import matplotlib.pyplot as plt\n",
        "\n",
        "group_df = df.groupby('label').agg('count').reset_index()\n",
        "fig, ax = plt.subplots(figsize=(10, 5))\n",
        "sns.barplot(data=group_df, x='label', y='email', ax=ax)\n",
        "ax.set_xlabel('Спам/не спам')\n",
        "ax.set_ylabel('Количество')\n",
        "ax.set_title('Соотношение спам и не спам сообщений в выборке')\n",
        "plt.show()"
      ]
    },
    {
      "cell_type": "markdown",
      "id": "b161614b",
      "metadata": {
        "id": "b161614b"
      },
      "source": [
        "## Задание 2 (2 балла)"
      ]
    },
    {
      "cell_type": "markdown",
      "id": "dd29763b",
      "metadata": {
        "id": "dd29763b"
      },
      "source": [
        "Вам необходимо предобработать ваши данные и перевести их в векторный вид. Подгрузим необходимый модуль:"
      ]
    },
    {
      "cell_type": "code",
      "execution_count": 132,
      "id": "382eac9c",
      "metadata": {
        "id": "382eac9c"
      },
      "outputs": [],
      "source": [
        "from sklearn.feature_extraction.text import CountVectorizer"
      ]
    },
    {
      "cell_type": "markdown",
      "id": "89546b95",
      "metadata": {
        "id": "89546b95"
      },
      "source": [
        "Замените все пустоты (пустые строки) в данных на пропуски (NaN). После этого удалите из данных все строки, в которых наблюдаются пропущенные значения."
      ]
    },
    {
      "cell_type": "code",
      "execution_count": 133,
      "id": "af30a4fc",
      "metadata": {},
      "outputs": [
        {
          "data": {
            "text/plain": [
              "email    1\n",
              "label    0\n",
              "dtype: int64"
            ]
          },
          "execution_count": 133,
          "metadata": {},
          "output_type": "execute_result"
        }
      ],
      "source": [
        "df.isnull().sum()"
      ]
    },
    {
      "cell_type": "code",
      "execution_count": 134,
      "id": "45180f82",
      "metadata": {
        "id": "45180f82"
      },
      "outputs": [
        {
          "name": "stdout",
          "output_type": "stream",
          "text": [
            "email    0\n",
            "label    0\n",
            "dtype: int64\n"
          ]
        },
        {
          "data": {
            "text/plain": [
              "2997"
            ]
          },
          "execution_count": 134,
          "metadata": {},
          "output_type": "execute_result"
        }
      ],
      "source": [
        "df = df.replace(' ', np.nan).dropna(axis=0)\n",
        "\n",
        "print(df.isnull().sum())\n",
        "df.shape[0]"
      ]
    },
    {
      "cell_type": "markdown",
      "id": "2ca2fe88",
      "metadata": {
        "id": "2ca2fe88"
      },
      "source": [
        "Переводим данные в векторный вид:"
      ]
    },
    {
      "cell_type": "code",
      "execution_count": 135,
      "id": "29e9a37b",
      "metadata": {
        "id": "29e9a37b"
      },
      "outputs": [],
      "source": [
        "vectorizer = CountVectorizer()\n",
        "X = vectorizer.fit_transform(df[\"email\"])"
      ]
    },
    {
      "cell_type": "markdown",
      "id": "88c8b726",
      "metadata": {
        "id": "88c8b726"
      },
      "source": [
        "Определите, сколько теперь признаков в нашем наборе данных:"
      ]
    },
    {
      "cell_type": "code",
      "execution_count": 136,
      "id": "f19c2a02",
      "metadata": {
        "id": "f19c2a02"
      },
      "outputs": [
        {
          "data": {
            "text/plain": [
              "34116"
            ]
          },
          "execution_count": 136,
          "metadata": {},
          "output_type": "execute_result"
        }
      ],
      "source": [
        "X.shape[1]"
      ]
    },
    {
      "cell_type": "markdown",
      "id": "1803f282",
      "metadata": {
        "id": "1803f282"
      },
      "source": [
        "## Задание 3 (2 балла)"
      ]
    },
    {
      "cell_type": "markdown",
      "id": "39f400b7",
      "metadata": {
        "id": "39f400b7"
      },
      "source": [
        "Определите целевую переменную и признаки:"
      ]
    },
    {
      "cell_type": "code",
      "execution_count": 137,
      "id": "31f1acb6",
      "metadata": {
        "id": "31f1acb6"
      },
      "outputs": [],
      "source": [
        "y = df['label']"
      ]
    },
    {
      "cell_type": "markdown",
      "id": "b20f273e",
      "metadata": {
        "id": "b20f273e"
      },
      "source": [
        "Разделите выборку на обучающую и тестовую, размер тестовой выборки возьмите как 0.25, параметр random_state определите со значением 42:"
      ]
    },
    {
      "cell_type": "code",
      "execution_count": 138,
      "id": "96538fb6",
      "metadata": {
        "id": "96538fb6"
      },
      "outputs": [],
      "source": [
        "\n",
        "X_train, X_test, y_train, y_test = model_selection.train_test_split(X, y, test_size=0.33, stratify=y, random_state=42)"
      ]
    },
    {
      "cell_type": "markdown",
      "id": "139dac3d",
      "metadata": {
        "id": "139dac3d"
      },
      "source": [
        "Рассчитайте среднее значение целевой переменной по тестовой выборке:"
      ]
    },
    {
      "cell_type": "code",
      "execution_count": 139,
      "id": "e9baf72d",
      "metadata": {
        "id": "e9baf72d"
      },
      "outputs": [
        {
          "data": {
            "text/plain": [
              "0.16565656565656567"
            ]
          },
          "execution_count": 139,
          "metadata": {},
          "output_type": "execute_result"
        }
      ],
      "source": [
        "y_test.mean()"
      ]
    },
    {
      "cell_type": "markdown",
      "id": "710e0e94",
      "metadata": {
        "id": "710e0e94"
      },
      "source": [
        "## Задание 4 (3 балла)"
      ]
    },
    {
      "cell_type": "markdown",
      "id": "26cf6885",
      "metadata": {
        "id": "26cf6885"
      },
      "source": [
        "Определите и обучите подходящий алгоритм с параметром alpha = 0.01"
      ]
    },
    {
      "cell_type": "code",
      "execution_count": 140,
      "id": "4865dd78",
      "metadata": {
        "id": "4865dd78"
      },
      "outputs": [],
      "source": [
        "from sklearn import naive_bayes\n",
        "\n",
        "model = naive_bayes.ComplementNB(alpha=0.01)\n",
        "\n",
        "model.fit(X_train, y_train)\n",
        "\n",
        "y_train_predict = model.predict(X_train)\n",
        "y_test_predict = model.predict(X_test)"
      ]
    },
    {
      "cell_type": "markdown",
      "id": "d803fbe3",
      "metadata": {
        "id": "d803fbe3"
      },
      "source": [
        "Оцените результат с точки зрения всех известных вам метрик (не менее трёх):"
      ]
    },
    {
      "cell_type": "code",
      "execution_count": 141,
      "id": "b0bbc4d2",
      "metadata": {
        "id": "b0bbc4d2"
      },
      "outputs": [
        {
          "name": "stdout",
          "output_type": "stream",
          "text": [
            "precision train -  1.0\n",
            "recall train -  0.996996996996997\n",
            "accuracy train -  0.9995017438963627\n",
            "f1 score train -  0.9984962406015038\n",
            "precision test -  0.9935483870967742\n",
            "recall test -  0.9390243902439024\n",
            "accuracy test -  0.9888888888888889\n",
            "f1 score test -  0.9655172413793103\n"
          ]
        }
      ],
      "source": [
        "from sklearn import metrics\n",
        "\n",
        "print('precision train - ', metrics.precision_score(y_train, y_train_predict))\n",
        "print('recall train - ', metrics.recall_score(y_train, y_train_predict))\n",
        "print('accuracy train - ', metrics.accuracy_score(y_train, y_train_predict))\n",
        "print('f1 score train - ', metrics.f1_score(y_train, y_train_predict))\n",
        "\n",
        "print('precision test - ', metrics.precision_score(y_test, y_test_predict))\n",
        "print('recall test - ', metrics.recall_score(y_test, y_test_predict))\n",
        "print('accuracy test - ', metrics.accuracy_score(y_test, y_test_predict))\n",
        "print('f1 score test - ', metrics.f1_score(y_test, y_test_predict))"
      ]
    },
    {
      "cell_type": "markdown",
      "id": "c85976d1",
      "metadata": {
        "id": "c85976d1"
      },
      "source": [
        "Нарисуйте ROC-кривую:"
      ]
    },
    {
      "cell_type": "code",
      "execution_count": 142,
      "id": "b4195126",
      "metadata": {
        "id": "b4195126"
      },
      "outputs": [
        {
          "name": "stderr",
          "output_type": "stream",
          "text": [
            "/home/vadim/anaconda3/envs/sf/lib/python3.8/site-packages/seaborn/_decorators.py:36: FutureWarning: Pass the following variables as keyword args: x, y. From version 0.12, the only valid positional argument will be `data`, and passing other arguments without an explicit keyword will result in an error or misinterpretation.\n",
            "  warnings.warn(\n"
          ]
        },
        {
          "data": {
            "image/png": "[encoded data removed]",
            "text/plain": [
              "<Figure size 720x360 with 1 Axes>"
            ]
          },
          "metadata": {
            "needs_background": "light"
          },
          "output_type": "display_data"
        }
      ],
      "source": [
        "lr_probs = model.predict_proba(X_test)\n",
        "lr_probs = lr_probs[:, 1]\n",
        "lr_auc = metrics.roc_auc_score(y_test, lr_probs)\n",
        "\n",
        "fpr, tpr, threshold = metrics.roc_curve(y_test, lr_probs)\n",
        "roc_auc = metrics.auc(fpr, tpr)\n",
        "\n",
        "fig, ax = plt.subplots(figsize=(10, 5))\n",
        "sns.lineplot(fpr, tpr, ax=ax)\n",
        "\n",
        "ax.set_title('ROC кривая')\n",
        "ax.set_xlabel('False positive rate')\n",
        "ax.set_ylabel('True positive rate')\n",
        "plt.show()\n",
        "\n"
      ]
    },
    {
      "cell_type": "markdown",
      "id": "cf0bb49b",
      "metadata": {
        "id": "cf0bb49b"
      },
      "source": [
        "## Задание 5 (3 балла)"
      ]
    },
    {
      "cell_type": "markdown",
      "id": "30b7a0ae",
      "metadata": {
        "id": "30b7a0ae"
      },
      "source": [
        "Переберите несколько значений alpha с помощью кросс-валидации. Оцените, зависит ли от этого параметра качество классификации."
      ]
    },
    {
      "cell_type": "code",
      "execution_count": 143,
      "id": "3513d907",
      "metadata": {
        "id": "3513d907"
      },
      "outputs": [
        {
          "name": "stdout",
          "output_type": "stream",
          "text": [
            "alpha -  0.1\n",
            "test metrics -  [0.975      0.995      0.98831386 0.97495826 0.17028381]\n",
            "train accuracy 0.9989154151891977\n",
            "test accuracy 0.8207111853088481\n",
            "alpha -  0.05\n",
            "test metrics -  [0.98       0.99833333 0.99165275 0.97829716 0.17028381]\n",
            "train accuracy 0.9989154151891977\n",
            "test accuracy 0.8237134112409571\n",
            "alpha -  0.001\n",
            "test metrics -  [0.98833333 0.99666667 0.9966611  0.97829716 0.17028381]\n",
            "train accuracy 0.9994159713820757\n",
            "test accuracy 0.8260484140233724\n",
            "alpha -  0.02\n",
            "test metrics -  [0.98       0.99833333 0.99165275 0.97829716 0.17028381]\n",
            "train accuracy 0.9989154151891977\n",
            "test accuracy 0.8237134112409571\n",
            "alpha -  0.03\n",
            "test metrics -  [0.98       0.99833333 0.99165275 0.97662771 0.17028381]\n",
            "train accuracy 0.9989154151891977\n",
            "test accuracy 0.8233795214245966\n",
            "alpha -  0.04\n",
            "test metrics -  [0.98       0.99833333 0.99165275 0.97662771 0.17028381]\n",
            "train accuracy 0.9989154151891977\n",
            "test accuracy 0.8233795214245966\n",
            "alpha -  0.05\n",
            "test metrics -  [0.98       0.99833333 0.99165275 0.97829716 0.17028381]\n",
            "train accuracy 0.9989154151891977\n",
            "test accuracy 0.8237134112409571\n",
            "alpha -  0.06\n",
            "test metrics -  [0.98       0.99833333 0.99165275 0.97662771 0.17028381]\n",
            "train accuracy 0.9989154151891977\n",
            "test accuracy 0.8233795214245966\n",
            "alpha -  0.07\n",
            "test metrics -  [0.97833333 0.99666667 0.98998331 0.97495826 0.17028381]\n",
            "train accuracy 0.9989154151891977\n",
            "test accuracy 0.8220450751252087\n"
          ]
        }
      ],
      "source": [
        "alphas = [0.1, 0.05, 0.001, 0.02, 0.03, 0.04, 0.05, 0.06, 0.07]\n",
        "\n",
        "for alpha in alphas:\n",
        "    kf = model_selection.KFold(n_splits=5)\n",
        "    model = naive_bayes.ComplementNB(alpha=alpha)\n",
        "    \n",
        "    cv_metrics = model_selection.cross_validate(\n",
        "        estimator=model,\n",
        "        cv=kf,\n",
        "        X=X,\n",
        "        y=y,\n",
        "        scoring='accuracy',\n",
        "        return_train_score=True\n",
        "    )\n",
        "    \n",
        "    print('alpha - ', alpha)\n",
        "    print('test metrics - ', cv_metrics['test_score'])\n",
        "    print('train accuracy', np.mean(cv_metrics['train_score']))\n",
        "    print('test accuracy', np.mean(cv_metrics['test_score']))"
      ]
    },
    {
      "cell_type": "markdown",
      "id": "984c271d",
      "metadata": {},
      "source": [
        "В целом параметр alpha в данном случае практически не влияет на качество модели.\n",
        "Интересно, что при кроссвалидации в одном из вариантов разбития выборки, модель показывает очень сильное переобучение, что влияет на среднее по метрике"
      ]
    }
  ],
  "metadata": {
    "colab": {
      "name": "SGA_unit6_NBC.ipynb",
      "provenance": []
    },
    "kernelspec": {
      "display_name": "Python 3.8.13 ('sf')",
      "language": "python",
      "name": "python3"
    },
    "language_info": {
      "codemirror_mode": {
        "name": "ipython",
        "version": 3
      },
      "file_extension": ".py",
      "mimetype": "text/x-python",
      "name": "python",
      "nbconvert_exporter": "python",
      "pygments_lexer": "ipython3",
      "version": "3.8.13"
    },
    "vscode": {
      "interpreter": {
        "hash": "8735010b092e0503e8d34865b02b1302d4a926fff961a3bbb94d7f101832b68a"
      }
    }
  },
  "nbformat": 4,
  "nbformat_minor": 5
}
