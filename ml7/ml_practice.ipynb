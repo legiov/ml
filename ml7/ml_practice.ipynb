{
 "cells": [
  {
   "cell_type": "code",
   "execution_count": 3,
   "metadata": {},
   "outputs": [],
   "source": [
    "import numpy as np\n",
    "import pandas as pd\n",
    "\n",
    "from sklearn import linear_model\n",
    "from sklearn import model_selection\n",
    "from sklearn import ensemble\n",
    "from sklearn import metrics\n",
    "\n",
    "import hyperopt\n",
    "from hyperopt import hp, fmin, tpe, Trials\n",
    "\n",
    "import optuna"
   ]
  },
  {
   "cell_type": "code",
   "execution_count": 4,
   "metadata": {},
   "outputs": [],
   "source": [
    "df = pd.read_csv('data/_train_sem09 (1).csv')"
   ]
  },
  {
   "cell_type": "code",
   "execution_count": 5,
   "metadata": {},
   "outputs": [
    {
     "data": {
      "text/html": [
       "<div>\n",
       "<style scoped>\n",
       "    .dataframe tbody tr th:only-of-type {\n",
       "        vertical-align: middle;\n",
       "    }\n",
       "\n",
       "    .dataframe tbody tr th {\n",
       "        vertical-align: top;\n",
       "    }\n",
       "\n",
       "    .dataframe thead th {\n",
       "        text-align: right;\n",
       "    }\n",
       "</style>\n",
       "<table border=\"1\" class=\"dataframe\">\n",
       "  <thead>\n",
       "    <tr style=\"text-align: right;\">\n",
       "      <th></th>\n",
       "      <th>Activity</th>\n",
       "      <th>D1</th>\n",
       "      <th>D2</th>\n",
       "      <th>D3</th>\n",
       "      <th>D4</th>\n",
       "      <th>D5</th>\n",
       "      <th>D6</th>\n",
       "      <th>D7</th>\n",
       "      <th>D8</th>\n",
       "      <th>D9</th>\n",
       "      <th>...</th>\n",
       "      <th>D1767</th>\n",
       "      <th>D1768</th>\n",
       "      <th>D1769</th>\n",
       "      <th>D1770</th>\n",
       "      <th>D1771</th>\n",
       "      <th>D1772</th>\n",
       "      <th>D1773</th>\n",
       "      <th>D1774</th>\n",
       "      <th>D1775</th>\n",
       "      <th>D1776</th>\n",
       "    </tr>\n",
       "  </thead>\n",
       "  <tbody>\n",
       "    <tr>\n",
       "      <th>0</th>\n",
       "      <td>1</td>\n",
       "      <td>0.000000</td>\n",
       "      <td>0.497009</td>\n",
       "      <td>0.10</td>\n",
       "      <td>0.0</td>\n",
       "      <td>0.132956</td>\n",
       "      <td>0.678031</td>\n",
       "      <td>0.273166</td>\n",
       "      <td>0.585445</td>\n",
       "      <td>0.743663</td>\n",
       "      <td>...</td>\n",
       "      <td>0</td>\n",
       "      <td>0</td>\n",
       "      <td>0</td>\n",
       "      <td>0</td>\n",
       "      <td>0</td>\n",
       "      <td>0</td>\n",
       "      <td>0</td>\n",
       "      <td>0</td>\n",
       "      <td>0</td>\n",
       "      <td>0</td>\n",
       "    </tr>\n",
       "    <tr>\n",
       "      <th>1</th>\n",
       "      <td>1</td>\n",
       "      <td>0.366667</td>\n",
       "      <td>0.606291</td>\n",
       "      <td>0.05</td>\n",
       "      <td>0.0</td>\n",
       "      <td>0.111209</td>\n",
       "      <td>0.803455</td>\n",
       "      <td>0.106105</td>\n",
       "      <td>0.411754</td>\n",
       "      <td>0.836582</td>\n",
       "      <td>...</td>\n",
       "      <td>1</td>\n",
       "      <td>1</td>\n",
       "      <td>1</td>\n",
       "      <td>1</td>\n",
       "      <td>0</td>\n",
       "      <td>1</td>\n",
       "      <td>0</td>\n",
       "      <td>0</td>\n",
       "      <td>1</td>\n",
       "      <td>0</td>\n",
       "    </tr>\n",
       "    <tr>\n",
       "      <th>2</th>\n",
       "      <td>1</td>\n",
       "      <td>0.033300</td>\n",
       "      <td>0.480124</td>\n",
       "      <td>0.00</td>\n",
       "      <td>0.0</td>\n",
       "      <td>0.209791</td>\n",
       "      <td>0.610350</td>\n",
       "      <td>0.356453</td>\n",
       "      <td>0.517720</td>\n",
       "      <td>0.679051</td>\n",
       "      <td>...</td>\n",
       "      <td>0</td>\n",
       "      <td>0</td>\n",
       "      <td>0</td>\n",
       "      <td>0</td>\n",
       "      <td>0</td>\n",
       "      <td>0</td>\n",
       "      <td>0</td>\n",
       "      <td>0</td>\n",
       "      <td>0</td>\n",
       "      <td>0</td>\n",
       "    </tr>\n",
       "    <tr>\n",
       "      <th>3</th>\n",
       "      <td>1</td>\n",
       "      <td>0.000000</td>\n",
       "      <td>0.538825</td>\n",
       "      <td>0.00</td>\n",
       "      <td>0.5</td>\n",
       "      <td>0.196344</td>\n",
       "      <td>0.724230</td>\n",
       "      <td>0.235606</td>\n",
       "      <td>0.288764</td>\n",
       "      <td>0.805110</td>\n",
       "      <td>...</td>\n",
       "      <td>0</td>\n",
       "      <td>0</td>\n",
       "      <td>0</td>\n",
       "      <td>0</td>\n",
       "      <td>0</td>\n",
       "      <td>0</td>\n",
       "      <td>0</td>\n",
       "      <td>0</td>\n",
       "      <td>0</td>\n",
       "      <td>0</td>\n",
       "    </tr>\n",
       "    <tr>\n",
       "      <th>4</th>\n",
       "      <td>0</td>\n",
       "      <td>0.100000</td>\n",
       "      <td>0.517794</td>\n",
       "      <td>0.00</td>\n",
       "      <td>0.0</td>\n",
       "      <td>0.494734</td>\n",
       "      <td>0.781422</td>\n",
       "      <td>0.154361</td>\n",
       "      <td>0.303809</td>\n",
       "      <td>0.812646</td>\n",
       "      <td>...</td>\n",
       "      <td>0</td>\n",
       "      <td>0</td>\n",
       "      <td>0</td>\n",
       "      <td>0</td>\n",
       "      <td>0</td>\n",
       "      <td>0</td>\n",
       "      <td>0</td>\n",
       "      <td>0</td>\n",
       "      <td>0</td>\n",
       "      <td>0</td>\n",
       "    </tr>\n",
       "  </tbody>\n",
       "</table>\n",
       "<p>5 rows × 1777 columns</p>\n",
       "</div>"
      ],
      "text/plain": [
       "   Activity        D1        D2    D3   D4        D5        D6        D7  \\\n",
       "0         1  0.000000  0.497009  0.10  0.0  0.132956  0.678031  0.273166   \n",
       "1         1  0.366667  0.606291  0.05  0.0  0.111209  0.803455  0.106105   \n",
       "2         1  0.033300  0.480124  0.00  0.0  0.209791  0.610350  0.356453   \n",
       "3         1  0.000000  0.538825  0.00  0.5  0.196344  0.724230  0.235606   \n",
       "4         0  0.100000  0.517794  0.00  0.0  0.494734  0.781422  0.154361   \n",
       "\n",
       "         D8        D9  ...  D1767  D1768  D1769  D1770  D1771  D1772  D1773  \\\n",
       "0  0.585445  0.743663  ...      0      0      0      0      0      0      0   \n",
       "1  0.411754  0.836582  ...      1      1      1      1      0      1      0   \n",
       "2  0.517720  0.679051  ...      0      0      0      0      0      0      0   \n",
       "3  0.288764  0.805110  ...      0      0      0      0      0      0      0   \n",
       "4  0.303809  0.812646  ...      0      0      0      0      0      0      0   \n",
       "\n",
       "   D1774  D1775  D1776  \n",
       "0      0      0      0  \n",
       "1      0      1      0  \n",
       "2      0      0      0  \n",
       "3      0      0      0  \n",
       "4      0      0      0  \n",
       "\n",
       "[5 rows x 1777 columns]"
      ]
     },
     "execution_count": 5,
     "metadata": {},
     "output_type": "execute_result"
    }
   ],
   "source": [
    "df.head()"
   ]
  },
  {
   "cell_type": "code",
   "execution_count": 6,
   "metadata": {},
   "outputs": [],
   "source": [
    "def print_f1_score(y_train, y_test, y_train_pred, y_test_pred):\n",
    "    print('f1 score train: ', metrics.f1_score(y_train, y_train_pred))\n",
    "    print('f1 score test: ', metrics.f1_score(y_test, y_test_pred))"
   ]
  },
  {
   "cell_type": "code",
   "execution_count": 7,
   "metadata": {},
   "outputs": [],
   "source": [
    "X = df.drop('Activity', axis=1)\n",
    "y = df['Activity']"
   ]
  },
  {
   "cell_type": "code",
   "execution_count": 8,
   "metadata": {},
   "outputs": [],
   "source": [
    "X_train, X_test, y_train, y_test = model_selection.train_test_split(X, y, test_size=0.2, random_state=42)"
   ]
  },
  {
   "cell_type": "markdown",
   "metadata": {},
   "source": [
    "LogisticRegression"
   ]
  },
  {
   "cell_type": "code",
   "execution_count": 9,
   "metadata": {},
   "outputs": [],
   "source": [
    "space_lr = {\n",
    "    'penalty' : ['none', 'l1', 'l2', 'elasticnet'],\n",
    "    'solver'  : ['newton-cg', 'lbfgs', 'liblinear', 'sag', 'saga'],\n",
    "    'C'       : list(np.linspace(0.01, 1, 10, dtype=float))\n",
    "}"
   ]
  },
  {
   "cell_type": "markdown",
   "metadata": {},
   "source": [
    "GridSearch"
   ]
  },
  {
   "cell_type": "code",
   "execution_count": null,
   "metadata": {},
   "outputs": [],
   "source": [
    "\n",
    "\n",
    "grid_search = model_selection.GridSearchCV(\n",
    "    estimator=linear_model.LogisticRegression(max_iter=50, random_state=42),\n",
    "    param_grid=space_lr,\n",
    "    cv=5,\n",
    "    n_jobs=-1\n",
    ")\n",
    "grid_search.fit(X_train, y_train)\n",
    "\n",
    "y_train_pred = grid_search.predict(X_train)\n",
    "y_test_pred = grid_search.predict(X_test)\n",
    "\n"
   ]
  },
  {
   "cell_type": "code",
   "execution_count": 11,
   "metadata": {},
   "outputs": [
    {
     "name": "stdout",
     "output_type": "stream",
     "text": [
      "f1 score train:  0.8397553516819573\n",
      "f1 score test:  0.8\n"
     ]
    }
   ],
   "source": [
    "print_f1_score(y_train, y_test, y_train_pred, y_test_pred)"
   ]
  },
  {
   "cell_type": "markdown",
   "metadata": {},
   "source": [
    "RandomSearch"
   ]
  },
  {
   "cell_type": "code",
   "execution_count": null,
   "metadata": {},
   "outputs": [],
   "source": [
    "random_search = model_selection.RandomizedSearchCV(\n",
    "    estimator=linear_model.LogisticRegression(random_state=42, max_iter=50),\n",
    "    param_distributions=space_lr,\n",
    "    cv=5,\n",
    "    n_iter=50,\n",
    "    n_jobs=-1\n",
    ")\n",
    "\n",
    "random_search.fit(X_train, y_train)\n",
    "\n",
    "y_train_pred = random_search.predict(X_train)\n",
    "y_test_pred = random_search.predict(X_test)\n",
    "\n"
   ]
  },
  {
   "cell_type": "code",
   "execution_count": 13,
   "metadata": {},
   "outputs": [
    {
     "name": "stdout",
     "output_type": "stream",
     "text": [
      "f1 score train:  0.8580227902679396\n",
      "f1 score test:  0.7977142857142857\n"
     ]
    }
   ],
   "source": [
    "print_f1_score(y_train, y_test, y_train_pred, y_test_pred)"
   ]
  },
  {
   "cell_type": "markdown",
   "metadata": {},
   "source": [
    "Hyperopt"
   ]
  },
  {
   "cell_type": "code",
   "execution_count": 22,
   "metadata": {},
   "outputs": [],
   "source": [
    "penalties = ['none', 'l1', 'l2', 'elasticnet']\n",
    "solvers = ['newton-cg', 'lbfgs', 'liblinear', 'sag', 'saga']\n",
    "space_lr = {\n",
    "       'penalty': hp.choice('penalty', penalties),\n",
    "       'solver' : hp.choice('solver', solvers),\n",
    "       'C': hp.quniform('C', 0.01, 1, 0.1)\n",
    "      }"
   ]
  },
  {
   "cell_type": "code",
   "execution_count": 15,
   "metadata": {},
   "outputs": [],
   "source": [
    "def hyperopt_lr(params, cv=5, X=X_train, y=y_train, random_state=42):\n",
    "    params = {\n",
    "        'penalty' : params['penalty'],\n",
    "        'solver'  : params['solver'],\n",
    "        'C'       : float(params['C'])\n",
    "    }\n",
    "    \n",
    "    model = linear_model.LogisticRegression(**params, random_state=random_state, max_iter=2000)\n",
    "    \n",
    "    score = model_selection.cross_val_score(model, X, y, scoring='f1', cv=cv, n_jobs=-1).mean()\n",
    "    \n",
    "    return -score"
   ]
  },
  {
   "cell_type": "code",
   "execution_count": null,
   "metadata": {},
   "outputs": [],
   "source": [
    "%%time\n",
    "\n",
    "trials = Trials()\n",
    "\n",
    "best = fmin(\n",
    "    hyperopt_lr,\n",
    "    space=space_lr,\n",
    "    max_evals=50,\n",
    "    trials=trials,\n",
    "    rstate=np.random.default_rng(42)\n",
    ")"
   ]
  },
  {
   "cell_type": "code",
   "execution_count": 21,
   "metadata": {},
   "outputs": [
    {
     "name": "stdout",
     "output_type": "stream",
     "text": [
      "{'C': 0.1, 'penalty': 2, 'solver': 1}\n"
     ]
    }
   ],
   "source": [
    "print(best)"
   ]
  },
  {
   "cell_type": "code",
   "execution_count": null,
   "metadata": {},
   "outputs": [],
   "source": [
    "model = linear_model.LogisticRegression(\n",
    "    random_state=42,\n",
    "    C=best['C'],\n",
    "    penalty=penalties[best['penalty']],\n",
    "    solver=solvers[best['solver']]\n",
    ")\n",
    "\n",
    "model.fit(X_train, y_train)\n",
    "\n",
    "y_train_pred = model.predict(X_train)\n",
    "y_test_pred = model.predict(X_test)\n"
   ]
  },
  {
   "cell_type": "code",
   "execution_count": 24,
   "metadata": {},
   "outputs": [
    {
     "name": "stdout",
     "output_type": "stream",
     "text": [
      "f1 score train:  0.8527607361963189\n",
      "f1 score test:  0.7927107061503417\n"
     ]
    }
   ],
   "source": [
    "print_f1_score(y_train, y_test, y_train_pred, y_test_pred)"
   ]
  },
  {
   "cell_type": "markdown",
   "metadata": {},
   "source": [
    "Optuna"
   ]
  },
  {
   "cell_type": "code",
   "execution_count": 12,
   "metadata": {},
   "outputs": [],
   "source": [
    "def optuna_lr(trial):\n",
    "    penalty = trial.suggest_categorical('penalty', ['none', 'l1', 'l2', 'elasticnet'])\n",
    "    solver = trial.suggest_categorical('solver', ['newton-cg', 'lbfgs', 'liblinear', 'sag', 'saga'])\n",
    "    C = trial.suggest_uniform('C', 0.01, 0.91)\n",
    "    \n",
    "    model = linear_model.LogisticRegression(\n",
    "        penalty=penalty,\n",
    "        solver=solver,\n",
    "        C=C,\n",
    "        random_state=42\n",
    "    )\n",
    "    \n",
    "    score = model_selection.cross_val_score(model, X_train, y_train, scoring='f1', cv=5, n_jobs=-1).mean()\n",
    "    \n",
    "    return score\n",
    "    \n",
    "    "
   ]
  },
  {
   "cell_type": "code",
   "execution_count": null,
   "metadata": {},
   "outputs": [],
   "source": [
    "study = optuna.create_study(study_name=\"LogisticRegression\", direction='maximize')\n",
    "study.optimize(optuna_lr, n_jobs=-1, n_trials=50)"
   ]
  },
  {
   "cell_type": "code",
   "execution_count": 14,
   "metadata": {},
   "outputs": [
    {
     "name": "stdout",
     "output_type": "stream",
     "text": [
      "f1 score train:  0.8413329257107918\n",
      "f1 score test:  0.7954285714285714\n"
     ]
    },
    {
     "name": "stderr",
     "output_type": "stream",
     "text": [
      "/home/vadim/anaconda3/envs/sf/lib/python3.8/site-packages/sklearn/linear_model/_sag.py:329: ConvergenceWarning: The max_iter was reached which means the coef_ did not converge\n",
      "  warnings.warn(\"The max_iter was reached which means \"\n"
     ]
    }
   ],
   "source": [
    "model = linear_model.LogisticRegression(**study.best_params, random_state=42)\n",
    "\n",
    "model.fit(X_train, y_train)\n",
    "\n",
    "y_train_pred = model.predict(X_train)\n",
    "y_test_pred = model.predict(X_test)\n",
    "\n",
    "print_f1_score(y_train, y_test, y_train_pred, y_test_pred)"
   ]
  },
  {
   "cell_type": "markdown",
   "metadata": {},
   "source": [
    "RandomForestClassifier"
   ]
  },
  {
   "cell_type": "code",
   "execution_count": 15,
   "metadata": {},
   "outputs": [],
   "source": [
    "space_rf = {\n",
    "    'n_estimators'      : list(range(80, 290, 30)),\n",
    "    'max_depth'         : list(range(20, 40, 2)),\n",
    "    'min_samples_leaf'  : list(range(1, 10, 1))\n",
    "}"
   ]
  },
  {
   "cell_type": "markdown",
   "metadata": {},
   "source": [
    "GridSearch"
   ]
  },
  {
   "cell_type": "code",
   "execution_count": 16,
   "metadata": {},
   "outputs": [],
   "source": [
    "\n",
    "\n",
    "grid_search = model_selection.GridSearchCV(\n",
    "    estimator=ensemble.RandomForestClassifier(n_jobs=-1, random_state=42),\n",
    "    param_grid=space_rf,\n",
    "    cv=5,\n",
    "    n_jobs=-1\n",
    ")\n",
    "\n",
    "grid_search.fit(X_train, y_train)\n",
    "\n",
    "y_train_pred = grid_search.predict(X_train)\n",
    "y_test_pred = grid_search.predict(X_test)"
   ]
  },
  {
   "cell_type": "code",
   "execution_count": 17,
   "metadata": {},
   "outputs": [
    {
     "name": "stdout",
     "output_type": "stream",
     "text": [
      "f1 score train:  1.0\n",
      "f1 score test:  0.8341013824884792\n"
     ]
    }
   ],
   "source": [
    "print_f1_score(y_train, y_test, y_train_pred, y_test_pred)"
   ]
  },
  {
   "cell_type": "markdown",
   "metadata": {},
   "source": [
    "RandomSearch"
   ]
  },
  {
   "cell_type": "code",
   "execution_count": 18,
   "metadata": {},
   "outputs": [],
   "source": [
    "random_search = model_selection.RandomizedSearchCV(\n",
    "    estimator=ensemble.RandomForestClassifier(n_jobs=-1, random_state=42),\n",
    "    param_distributions=space_rf,\n",
    "    cv=5,\n",
    "    n_iter=50,\n",
    "    n_jobs=-1\n",
    ")\n",
    "\n",
    "random_search.fit(X_train, y_train)\n",
    "\n",
    "y_train_pred = random_search.predict(X_train)\n",
    "y_test_pred = random_search.predict(X_test)"
   ]
  },
  {
   "cell_type": "code",
   "execution_count": 19,
   "metadata": {},
   "outputs": [
    {
     "name": "stdout",
     "output_type": "stream",
     "text": [
      "f1 score train:  1.0\n",
      "f1 score test:  0.8300578034682079\n"
     ]
    }
   ],
   "source": [
    "print_f1_score(y_train, y_test, y_train_pred, y_test_pred)"
   ]
  },
  {
   "cell_type": "markdown",
   "metadata": {},
   "source": [
    "Hyperopt"
   ]
  },
  {
   "cell_type": "code",
   "execution_count": 26,
   "metadata": {},
   "outputs": [],
   "source": [
    "space_rf = {\n",
    "       'n_estimators'       : hp.quniform('n_estimators', 80, 290, 30),\n",
    "       'max_depth'          : hp.quniform('max_depth', 20, 40, 2),\n",
    "       'min_samples_leaf'   : hp.quniform('min_samples_leaf', 1, 10, 1)\n",
    "      }"
   ]
  },
  {
   "cell_type": "code",
   "execution_count": 27,
   "metadata": {},
   "outputs": [],
   "source": [
    "def hyperopt_rf(params, cv=5, X=X_train, y=y_train, random_state=42):\n",
    "    params = {\n",
    "        'n_estimators'      : int(params['n_estimators']),\n",
    "        'max_depth'         : int(params['max_depth']),\n",
    "        'min_samples_leaf'  : int(params['min_samples_leaf'])\n",
    "    }\n",
    "    \n",
    "    model = ensemble.RandomForestClassifier(**params, random_state=random_state)\n",
    "    \n",
    "    score = model_selection.cross_val_score(model, X, y, scoring='f1', cv=cv, n_jobs=-1).mean()\n",
    "    \n",
    "    return -score"
   ]
  },
  {
   "cell_type": "code",
   "execution_count": 29,
   "metadata": {},
   "outputs": [
    {
     "name": "stderr",
     "output_type": "stream",
     "text": [
      "TPE is being used as the default algorithm.\n"
     ]
    },
    {
     "name": "stdout",
     "output_type": "stream",
     "text": [
      "100%|██████████| 50/50 [05:07<00:00,  6.14s/trial, best loss: -0.8118633701308795]\n"
     ]
    }
   ],
   "source": [
    "trials = Trials()\n",
    "best = fmin(\n",
    "    hyperopt_rf,\n",
    "    space=space_rf,\n",
    "    max_evals=50,\n",
    "    trials=trials,\n",
    "    rstate=np.random.default_rng(42)\n",
    ")"
   ]
  },
  {
   "cell_type": "code",
   "execution_count": 32,
   "metadata": {},
   "outputs": [
    {
     "name": "stdout",
     "output_type": "stream",
     "text": [
      "{'max_depth': 34.0, 'min_samples_leaf': 2.0, 'n_estimators': 240.0}\n"
     ]
    }
   ],
   "source": [
    "print(best)"
   ]
  },
  {
   "cell_type": "code",
   "execution_count": 33,
   "metadata": {},
   "outputs": [
    {
     "name": "stdout",
     "output_type": "stream",
     "text": [
      "f1 score train:  0.9912826899128268\n",
      "f1 score test:  0.8333333333333334\n"
     ]
    }
   ],
   "source": [
    "model = ensemble.RandomForestClassifier(\n",
    "    n_estimators=int(best['n_estimators']),\n",
    "    max_depth=int(best['max_depth']),\n",
    "    min_samples_leaf=int(best['min_samples_leaf']),\n",
    "    random_state=42\n",
    ")\n",
    "\n",
    "model.fit(X_train, y_train)\n",
    "\n",
    "y_train_pred = model.predict(X_train)\n",
    "y_test_pred = model.predict(X_test)\n",
    "\n",
    "print_f1_score(y_train, y_test, y_train_pred, y_test_pred)"
   ]
  },
  {
   "cell_type": "markdown",
   "metadata": {},
   "source": [
    "Optuna"
   ]
  },
  {
   "cell_type": "code",
   "execution_count": 36,
   "metadata": {},
   "outputs": [],
   "source": [
    "def optuna_rf(trial):\n",
    "    n_estimators = trial.suggest_int('n_estimators', 80, 290, 30)\n",
    "    max_depth = trial.suggest_int('max_depth', 20, 40, 2)\n",
    "    min_samples_leaf = trial.suggest_int('min_samples_leaf', 1, 10, 1)\n",
    "    \n",
    "    model = ensemble.RandomForestClassifier(\n",
    "        n_estimators=n_estimators,\n",
    "        max_depth=max_depth,\n",
    "        min_samples_leaf=min_samples_leaf,\n",
    "        random_state=42\n",
    "    )\n",
    "    \n",
    "    score = model_selection.cross_val_score(model, X_train, y_train, scoring='f1', cv=5, n_jobs=-1).mean()\n",
    "    \n",
    "    return score"
   ]
  },
  {
   "cell_type": "code",
   "execution_count": 38,
   "metadata": {},
   "outputs": [
    {
     "name": "stderr",
     "output_type": "stream",
     "text": [
      "\u001b[32m[I 2022-07-07 00:16:21,208]\u001b[0m A new study created in memory with name: RandomForestClassifier\u001b[0m\n",
      "\u001b[32m[I 2022-07-07 00:16:30,521]\u001b[0m Trial 0 finished with value: 0.812298806670633 and parameters: {'n_estimators': 260, 'max_depth': 32, 'min_samples_leaf': 1}. Best is trial 0 with value: 0.812298806670633.\u001b[0m\n",
      "\u001b[32m[I 2022-07-07 00:16:34,804]\u001b[0m Trial 1 finished with value: 0.7979462067492635 and parameters: {'n_estimators': 140, 'max_depth': 24, 'min_samples_leaf': 6}. Best is trial 0 with value: 0.812298806670633.\u001b[0m\n",
      "\u001b[32m[I 2022-07-07 00:16:37,216]\u001b[0m Trial 2 finished with value: 0.8006754801947421 and parameters: {'n_estimators': 80, 'max_depth': 38, 'min_samples_leaf': 5}. Best is trial 0 with value: 0.812298806670633.\u001b[0m\n",
      "\u001b[32m[I 2022-07-07 00:16:44,594]\u001b[0m Trial 3 finished with value: 0.8129178571410934 and parameters: {'n_estimators': 230, 'max_depth': 38, 'min_samples_leaf': 1}. Best is trial 3 with value: 0.8129178571410934.\u001b[0m\n",
      "\u001b[32m[I 2022-07-07 00:16:52,471]\u001b[0m Trial 4 finished with value: 0.8103990296601801 and parameters: {'n_estimators': 260, 'max_depth': 32, 'min_samples_leaf': 2}. Best is trial 3 with value: 0.8129178571410934.\u001b[0m\n",
      "\u001b[32m[I 2022-07-07 00:16:55,966]\u001b[0m Trial 5 finished with value: 0.7973323955523871 and parameters: {'n_estimators': 140, 'max_depth': 38, 'min_samples_leaf': 6}. Best is trial 3 with value: 0.8129178571410934.\u001b[0m\n",
      "\u001b[32m[I 2022-07-07 00:17:00,320]\u001b[0m Trial 6 finished with value: 0.7953892207637827 and parameters: {'n_estimators': 200, 'max_depth': 26, 'min_samples_leaf': 9}. Best is trial 3 with value: 0.8129178571410934.\u001b[0m\n",
      "\u001b[32m[I 2022-07-07 00:17:06,043]\u001b[0m Trial 7 finished with value: 0.7984068703095207 and parameters: {'n_estimators': 260, 'max_depth': 26, 'min_samples_leaf': 8}. Best is trial 3 with value: 0.8129178571410934.\u001b[0m\n",
      "\u001b[32m[I 2022-07-07 00:17:12,827]\u001b[0m Trial 8 finished with value: 0.8010268000618612 and parameters: {'n_estimators': 290, 'max_depth': 22, 'min_samples_leaf': 6}. Best is trial 3 with value: 0.8129178571410934.\u001b[0m\n",
      "\u001b[32m[I 2022-07-07 00:17:20,732]\u001b[0m Trial 9 finished with value: 0.806330784486659 and parameters: {'n_estimators': 290, 'max_depth': 40, 'min_samples_leaf': 3}. Best is trial 3 with value: 0.8129178571410934.\u001b[0m\n",
      "\u001b[32m[I 2022-07-07 00:17:26,157]\u001b[0m Trial 10 finished with value: 0.802611067238286 and parameters: {'n_estimators': 200, 'max_depth': 34, 'min_samples_leaf': 4}. Best is trial 3 with value: 0.8129178571410934.\u001b[0m\n",
      "\u001b[32m[I 2022-07-07 00:17:33,362]\u001b[0m Trial 11 finished with value: 0.81304794853323 and parameters: {'n_estimators': 230, 'max_depth': 34, 'min_samples_leaf': 1}. Best is trial 11 with value: 0.81304794853323.\u001b[0m\n",
      "\u001b[32m[I 2022-07-07 00:17:40,390]\u001b[0m Trial 12 finished with value: 0.8134269814472868 and parameters: {'n_estimators': 230, 'max_depth': 36, 'min_samples_leaf': 1}. Best is trial 12 with value: 0.8134269814472868.\u001b[0m\n",
      "\u001b[32m[I 2022-07-07 00:17:45,004]\u001b[0m Trial 13 finished with value: 0.8035675432644573 and parameters: {'n_estimators': 170, 'max_depth': 34, 'min_samples_leaf': 3}. Best is trial 12 with value: 0.8134269814472868.\u001b[0m\n",
      "\u001b[32m[I 2022-07-07 00:17:51,970]\u001b[0m Trial 14 finished with value: 0.8119279640442736 and parameters: {'n_estimators': 230, 'max_depth': 30, 'min_samples_leaf': 1}. Best is trial 12 with value: 0.8134269814472868.\u001b[0m\n",
      "\u001b[32m[I 2022-07-07 00:17:58,001]\u001b[0m Trial 15 finished with value: 0.8058368372639295 and parameters: {'n_estimators': 230, 'max_depth': 36, 'min_samples_leaf': 3}. Best is trial 12 with value: 0.8134269814472868.\u001b[0m\n",
      "\u001b[32m[I 2022-07-07 00:18:02,187]\u001b[0m Trial 16 finished with value: 0.8056588385794876 and parameters: {'n_estimators': 140, 'max_depth': 30, 'min_samples_leaf': 2}. Best is trial 12 with value: 0.8134269814472868.\u001b[0m\n",
      "\u001b[32m[I 2022-07-07 00:18:05,913]\u001b[0m Trial 17 finished with value: 0.7978707495359701 and parameters: {'n_estimators': 170, 'max_depth': 28, 'min_samples_leaf': 8}. Best is trial 12 with value: 0.8134269814472868.\u001b[0m\n",
      "\u001b[32m[I 2022-07-07 00:18:08,252]\u001b[0m Trial 18 finished with value: 0.8051998212040885 and parameters: {'n_estimators': 80, 'max_depth': 34, 'min_samples_leaf': 4}. Best is trial 12 with value: 0.8134269814472868.\u001b[0m\n",
      "\u001b[32m[I 2022-07-07 00:18:14,002]\u001b[0m Trial 19 finished with value: 0.8078633403343078 and parameters: {'n_estimators': 200, 'max_depth': 40, 'min_samples_leaf': 2}. Best is trial 12 with value: 0.8134269814472868.\u001b[0m\n",
      "\u001b[32m[I 2022-07-07 00:18:18,786]\u001b[0m Trial 20 finished with value: 0.7932188829575874 and parameters: {'n_estimators': 230, 'max_depth': 20, 'min_samples_leaf': 10}. Best is trial 12 with value: 0.8134269814472868.\u001b[0m\n",
      "\u001b[32m[I 2022-07-07 00:18:25,626]\u001b[0m Trial 21 finished with value: 0.8134269814472868 and parameters: {'n_estimators': 230, 'max_depth': 36, 'min_samples_leaf': 1}. Best is trial 12 with value: 0.8134269814472868.\u001b[0m\n",
      "\u001b[32m[I 2022-07-07 00:18:33,590]\u001b[0m Trial 22 finished with value: 0.8131003885968472 and parameters: {'n_estimators': 260, 'max_depth': 36, 'min_samples_leaf': 1}. Best is trial 12 with value: 0.8134269814472868.\u001b[0m\n",
      "\u001b[32m[I 2022-07-07 00:18:40,941]\u001b[0m Trial 23 finished with value: 0.8101513633479976 and parameters: {'n_estimators': 260, 'max_depth': 36, 'min_samples_leaf': 2}. Best is trial 12 with value: 0.8134269814472868.\u001b[0m\n",
      "\u001b[32m[I 2022-07-07 00:18:48,130]\u001b[0m Trial 24 finished with value: 0.8027512845480897 and parameters: {'n_estimators': 290, 'max_depth': 36, 'min_samples_leaf': 4}. Best is trial 12 with value: 0.8134269814472868.\u001b[0m\n",
      "\u001b[32m[I 2022-07-07 00:18:56,057]\u001b[0m Trial 25 finished with value: 0.812298806670633 and parameters: {'n_estimators': 260, 'max_depth': 32, 'min_samples_leaf': 1}. Best is trial 12 with value: 0.8134269814472868.\u001b[0m\n",
      "\u001b[32m[I 2022-07-07 00:19:01,855]\u001b[0m Trial 26 finished with value: 0.8078633403343078 and parameters: {'n_estimators': 200, 'max_depth': 40, 'min_samples_leaf': 2}. Best is trial 12 with value: 0.8134269814472868.\u001b[0m\n",
      "\u001b[32m[I 2022-07-07 00:19:09,535]\u001b[0m Trial 27 finished with value: 0.806330784486659 and parameters: {'n_estimators': 290, 'max_depth': 36, 'min_samples_leaf': 3}. Best is trial 12 with value: 0.8134269814472868.\u001b[0m\n",
      "\u001b[32m[I 2022-07-07 00:19:16,557]\u001b[0m Trial 28 finished with value: 0.8129178571410934 and parameters: {'n_estimators': 230, 'max_depth': 38, 'min_samples_leaf': 1}. Best is trial 12 with value: 0.8134269814472868.\u001b[0m\n",
      "\u001b[32m[I 2022-07-07 00:19:22,737]\u001b[0m Trial 29 finished with value: 0.8019184092872994 and parameters: {'n_estimators': 260, 'max_depth': 32, 'min_samples_leaf': 5}. Best is trial 12 with value: 0.8134269814472868.\u001b[0m\n",
      "\u001b[32m[I 2022-07-07 00:19:28,081]\u001b[0m Trial 30 finished with value: 0.8079793208721988 and parameters: {'n_estimators': 170, 'max_depth': 28, 'min_samples_leaf': 1}. Best is trial 12 with value: 0.8134269814472868.\u001b[0m\n",
      "\u001b[32m[I 2022-07-07 00:19:35,173]\u001b[0m Trial 31 finished with value: 0.81304794853323 and parameters: {'n_estimators': 230, 'max_depth': 34, 'min_samples_leaf': 1}. Best is trial 12 with value: 0.8134269814472868.\u001b[0m\n",
      "\u001b[32m[I 2022-07-07 00:19:41,881]\u001b[0m Trial 32 finished with value: 0.8101225958353385 and parameters: {'n_estimators': 230, 'max_depth': 36, 'min_samples_leaf': 2}. Best is trial 12 with value: 0.8134269814472868.\u001b[0m\n",
      "\u001b[32m[I 2022-07-07 00:19:48,128]\u001b[0m Trial 33 finished with value: 0.8092851926545567 and parameters: {'n_estimators': 200, 'max_depth': 32, 'min_samples_leaf': 1}. Best is trial 12 with value: 0.8134269814472868.\u001b[0m\n",
      "\u001b[32m[I 2022-07-07 00:19:55,588]\u001b[0m Trial 34 finished with value: 0.8101513633479976 and parameters: {'n_estimators': 260, 'max_depth': 38, 'min_samples_leaf': 2}. Best is trial 12 with value: 0.8134269814472868.\u001b[0m\n",
      "\u001b[32m[I 2022-07-07 00:20:03,562]\u001b[0m Trial 35 finished with value: 0.8127208493937784 and parameters: {'n_estimators': 260, 'max_depth': 34, 'min_samples_leaf': 1}. Best is trial 12 with value: 0.8134269814472868.\u001b[0m\n",
      "\u001b[32m[I 2022-07-07 00:20:09,746]\u001b[0m Trial 36 finished with value: 0.8058368372639295 and parameters: {'n_estimators': 230, 'max_depth': 38, 'min_samples_leaf': 3}. Best is trial 12 with value: 0.8134269814472868.\u001b[0m\n",
      "\u001b[32m[I 2022-07-07 00:20:14,359]\u001b[0m Trial 37 finished with value: 0.800426453495031 and parameters: {'n_estimators': 200, 'max_depth': 36, 'min_samples_leaf': 7}. Best is trial 12 with value: 0.8134269814472868.\u001b[0m\n",
      "\u001b[32m[I 2022-07-07 00:20:18,006]\u001b[0m Trial 38 finished with value: 0.8083867785491169 and parameters: {'n_estimators': 110, 'max_depth': 34, 'min_samples_leaf': 1}. Best is trial 12 with value: 0.8134269814472868.\u001b[0m\n",
      "\u001b[32m[I 2022-07-07 00:20:24,611]\u001b[0m Trial 39 finished with value: 0.8101225958353385 and parameters: {'n_estimators': 230, 'max_depth': 38, 'min_samples_leaf': 2}. Best is trial 12 with value: 0.8134269814472868.\u001b[0m\n",
      "\u001b[32m[I 2022-07-07 00:20:31,502]\u001b[0m Trial 40 finished with value: 0.8014017929432906 and parameters: {'n_estimators': 290, 'max_depth': 32, 'min_samples_leaf': 5}. Best is trial 12 with value: 0.8134269814472868.\u001b[0m\n",
      "\u001b[32m[I 2022-07-07 00:20:38,648]\u001b[0m Trial 41 finished with value: 0.81304794853323 and parameters: {'n_estimators': 230, 'max_depth': 34, 'min_samples_leaf': 1}. Best is trial 12 with value: 0.8134269814472868.\u001b[0m\n",
      "\u001b[32m[I 2022-07-07 00:20:46,638]\u001b[0m Trial 42 finished with value: 0.8131003885968472 and parameters: {'n_estimators': 260, 'max_depth': 36, 'min_samples_leaf': 1}. Best is trial 12 with value: 0.8134269814472868.\u001b[0m\n",
      "\u001b[32m[I 2022-07-07 00:20:54,121]\u001b[0m Trial 43 finished with value: 0.8101513633479976 and parameters: {'n_estimators': 260, 'max_depth': 36, 'min_samples_leaf': 2}. Best is trial 12 with value: 0.8134269814472868.\u001b[0m\n",
      "\u001b[32m[I 2022-07-07 00:21:02,038]\u001b[0m Trial 44 finished with value: 0.8131003885968472 and parameters: {'n_estimators': 260, 'max_depth': 40, 'min_samples_leaf': 1}. Best is trial 12 with value: 0.8134269814472868.\u001b[0m\n",
      "\u001b[32m[I 2022-07-07 00:21:08,961]\u001b[0m Trial 45 finished with value: 0.8039876784608101 and parameters: {'n_estimators': 260, 'max_depth': 40, 'min_samples_leaf': 3}. Best is trial 12 with value: 0.8134269814472868.\u001b[0m\n",
      "\u001b[32m[I 2022-07-07 00:21:17,463]\u001b[0m Trial 46 finished with value: 0.8104445831053674 and parameters: {'n_estimators': 290, 'max_depth': 40, 'min_samples_leaf': 1}. Best is trial 12 with value: 0.8134269814472868.\u001b[0m\n",
      "\u001b[32m[I 2022-07-07 00:21:24,740]\u001b[0m Trial 47 finished with value: 0.8101513633479976 and parameters: {'n_estimators': 260, 'max_depth': 38, 'min_samples_leaf': 2}. Best is trial 12 with value: 0.8134269814472868.\u001b[0m\n",
      "\u001b[32m[I 2022-07-07 00:21:32,726]\u001b[0m Trial 48 finished with value: 0.8102437238347256 and parameters: {'n_estimators': 290, 'max_depth': 40, 'min_samples_leaf': 2}. Best is trial 12 with value: 0.8134269814472868.\u001b[0m\n",
      "\u001b[32m[I 2022-07-07 00:21:39,598]\u001b[0m Trial 49 finished with value: 0.8039876784608101 and parameters: {'n_estimators': 260, 'max_depth': 38, 'min_samples_leaf': 3}. Best is trial 12 with value: 0.8134269814472868.\u001b[0m\n"
     ]
    }
   ],
   "source": [
    "study = optuna.create_study(study_name=\"RandomForestClassifier\", direction='maximize')\n",
    "study.optimize(optuna_rf, n_trials=50)"
   ]
  },
  {
   "cell_type": "code",
   "execution_count": 39,
   "metadata": {},
   "outputs": [
    {
     "name": "stdout",
     "output_type": "stream",
     "text": [
      "f1 score train:  1.0\n",
      "f1 score test:  0.8300578034682079\n"
     ]
    }
   ],
   "source": [
    "model = ensemble.RandomForestClassifier(**study.best_params, random_state=42)\n",
    "\n",
    "model.fit(X_train, y_train)\n",
    "\n",
    "y_train_pred = model.predict(X_train)\n",
    "y_test_pred = model.predict(X_test)\n",
    "\n",
    "print_f1_score(y_train, y_test, y_train_pred, y_test_pred)"
   ]
  }
 ],
 "metadata": {
  "kernelspec": {
   "display_name": "Python 3.8.11 ('sf')",
   "language": "python",
   "name": "python3"
  },
  "language_info": {
   "codemirror_mode": {
    "name": "ipython",
    "version": 3
   },
   "file_extension": ".py",
   "mimetype": "text/x-python",
   "name": "python",
   "nbconvert_exporter": "python",
   "pygments_lexer": "ipython3",
   "version": "3.8.11"
  },
  "orig_nbformat": 4,
  "vscode": {
   "interpreter": {
    "hash": "8735010b092e0503e8d34865b02b1302d4a926fff961a3bbb94d7f101832b68a"
   }
  }
 },
 "nbformat": 4,
 "nbformat_minor": 2
}
