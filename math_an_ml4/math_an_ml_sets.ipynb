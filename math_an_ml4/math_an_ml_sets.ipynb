{
 "cells": [
  {
   "cell_type": "code",
   "execution_count": 2,
   "metadata": {},
   "outputs": [],
   "source": [
    "import sympy"
   ]
  },
  {
   "cell_type": "code",
   "execution_count": 3,
   "metadata": {},
   "outputs": [],
   "source": [
    "A = {'ID453', 'ID312', 'ID41', 'ID3', 'ID500', 'ID920', 'ID36', 'ID27'}\n",
    "B = {'ID41', 'ID36', 'ID27', 'ID124', 'ID7', 'ID501', 'ID91' }"
   ]
  },
  {
   "cell_type": "code",
   "execution_count": 4,
   "metadata": {},
   "outputs": [
    {
     "data": {
      "text/plain": [
       "{'ID124',\n",
       " 'ID27',\n",
       " 'ID3',\n",
       " 'ID312',\n",
       " 'ID36',\n",
       " 'ID41',\n",
       " 'ID453',\n",
       " 'ID500',\n",
       " 'ID501',\n",
       " 'ID7',\n",
       " 'ID91',\n",
       " 'ID920'}"
      ]
     },
     "execution_count": 4,
     "metadata": {},
     "output_type": "execute_result"
    }
   ],
   "source": [
    "a_un = A.union(B)\n",
    "a_un"
   ]
  },
  {
   "cell_type": "code",
   "execution_count": 5,
   "metadata": {},
   "outputs": [
    {
     "data": {
      "text/plain": [
       "{'ID124',\n",
       " 'ID27',\n",
       " 'ID3',\n",
       " 'ID312',\n",
       " 'ID36',\n",
       " 'ID41',\n",
       " 'ID453',\n",
       " 'ID500',\n",
       " 'ID501',\n",
       " 'ID7',\n",
       " 'ID91',\n",
       " 'ID920'}"
      ]
     },
     "execution_count": 5,
     "metadata": {},
     "output_type": "execute_result"
    }
   ],
   "source": [
    "a_un = A | B\n",
    "a_un"
   ]
  },
  {
   "cell_type": "code",
   "execution_count": 6,
   "metadata": {},
   "outputs": [
    {
     "name": "stdout",
     "output_type": "stream",
     "text": [
      "{'ID41', 'ID27', 'ID36'}\n",
      "{'ID41', 'ID27', 'ID36'}\n"
     ]
    }
   ],
   "source": [
    "int_ab = A.intersection(B)\n",
    "inb_ab2 = A & B\n",
    "print(int_ab)\n",
    "print(inb_ab2)"
   ]
  },
  {
   "cell_type": "code",
   "execution_count": 7,
   "metadata": {},
   "outputs": [
    {
     "name": "stdout",
     "output_type": "stream",
     "text": [
      "{'ID312', 'ID920', 'ID3', 'ID500', 'ID453'}\n",
      "{'ID312', 'ID920', 'ID3', 'ID500', 'ID453'}\n"
     ]
    }
   ],
   "source": [
    "dif = A.difference(B)\n",
    "dif2 = A - B\n",
    "\n",
    "print(dif)\n",
    "print(dif2)"
   ]
  },
  {
   "cell_type": "code",
   "execution_count": 8,
   "metadata": {},
   "outputs": [
    {
     "name": "stdout",
     "output_type": "stream",
     "text": [
      "{'ID91', 'ID501', 'ID7', 'ID453', 'ID312', 'ID920', 'ID3', 'ID124', 'ID500'}\n",
      "{'ID91', 'ID501', 'ID7', 'ID453', 'ID312', 'ID920', 'ID3', 'ID124', 'ID500'}\n"
     ]
    }
   ],
   "source": [
    "dif_sim = A.symmetric_difference(B)\n",
    "dif_sim2 = A ^ B\n",
    "print(dif_sim)\n",
    "print(dif_sim2)"
   ]
  },
  {
   "cell_type": "code",
   "execution_count": 9,
   "metadata": {},
   "outputs": [
    {
     "data": {
      "text/latex": [
       "$\\displaystyle \\left\\{1, 3, 7, 9, 10\\right\\}$"
      ],
      "text/plain": [
       "{1, 3, 7, 9, 10}"
      ]
     },
     "execution_count": 9,
     "metadata": {},
     "output_type": "execute_result"
    }
   ],
   "source": [
    "l1 = [1, 3, 7, 10]\n",
    "l2 = [9, 7, 1]\n",
    "\n",
    "a = sympy.FiniteSet(*l1)\n",
    "b = sympy.FiniteSet(*l2)\n",
    "sympy.Union(a, b)"
   ]
  },
  {
   "cell_type": "code",
   "execution_count": 10,
   "metadata": {},
   "outputs": [
    {
     "data": {
      "text/latex": [
       "$\\displaystyle \\left\\{x\\; \\middle|\\; x \\in \\left[2, 9\\right] \\wedge x^{2} - 5 x = 0 \\right\\}$"
      ],
      "text/plain": [
       "ConditionSet(x, Eq(x**2 - 5*x, 0), Interval(2, 9))"
      ]
     },
     "execution_count": 10,
     "metadata": {},
     "output_type": "execute_result"
    }
   ],
   "source": [
    "x = sympy.Symbol('x')\n",
    "s = sympy.ConditionSet(x, sympy.Eq(x**2-5*x, 0), sympy.Interval(2, 9))\n",
    "s"
   ]
  },
  {
   "cell_type": "code",
   "execution_count": 11,
   "metadata": {},
   "outputs": [],
   "source": [
    "a = {'bennet@xyz.com',\n",
    "'darcy@abc.com',\n",
    "'margaret@xyz.com',\n",
    "'pa@hhh.com',\n",
    "'marimari@xyz.com',\n",
    "'mallika@yahoo.com',\n",
    "'abc@xyz.com',\n",
    "'0071235@gmail.ru'}\n",
    "\n",
    "b = {\n",
    "    'marimari@xyz.com',\n",
    "'darcy@abc.com',\n",
    "'0071235@gmail.ru',\n",
    "'darcy@abc.com',\n",
    "'petr44@xyz.com',\n",
    "'katrin@ya.com',\n",
    "}"
   ]
  },
  {
   "cell_type": "code",
   "execution_count": 12,
   "metadata": {},
   "outputs": [
    {
     "data": {
      "text/plain": [
       "{'0071235@gmail.ru', 'darcy@abc.com', 'marimari@xyz.com'}"
      ]
     },
     "execution_count": 12,
     "metadata": {},
     "output_type": "execute_result"
    }
   ],
   "source": [
    "a & b"
   ]
  },
  {
   "cell_type": "code",
   "execution_count": 14,
   "metadata": {},
   "outputs": [
    {
     "data": {
      "text/plain": [
       "{'0071235@gmail.ru',\n",
       " 'abc@xyz.com',\n",
       " 'bennet@xyz.com',\n",
       " 'darcy@abc.com',\n",
       " 'katrin@ya.com',\n",
       " 'mallika@yahoo.com',\n",
       " 'margaret@xyz.com',\n",
       " 'marimari@xyz.com',\n",
       " 'pa@hhh.com',\n",
       " 'petr44@xyz.com'}"
      ]
     },
     "execution_count": 14,
     "metadata": {},
     "output_type": "execute_result"
    }
   ],
   "source": [
    "a | b"
   ]
  },
  {
   "cell_type": "code",
   "execution_count": 15,
   "metadata": {},
   "outputs": [
    {
     "data": {
      "text/plain": [
       "{'abc@xyz.com',\n",
       " 'bennet@xyz.com',\n",
       " 'katrin@ya.com',\n",
       " 'mallika@yahoo.com',\n",
       " 'margaret@xyz.com',\n",
       " 'pa@hhh.com',\n",
       " 'petr44@xyz.com'}"
      ]
     },
     "execution_count": 15,
     "metadata": {},
     "output_type": "execute_result"
    }
   ],
   "source": [
    "a ^ b"
   ]
  }
 ],
 "metadata": {
  "kernelspec": {
   "display_name": "Python 3.8.13 ('sf')",
   "language": "python",
   "name": "python3"
  },
  "language_info": {
   "codemirror_mode": {
    "name": "ipython",
    "version": 3
   },
   "file_extension": ".py",
   "mimetype": "text/x-python",
   "name": "python",
   "nbconvert_exporter": "python",
   "pygments_lexer": "ipython3",
   "version": "3.8.13"
  },
  "orig_nbformat": 4,
  "vscode": {
   "interpreter": {
    "hash": "8735010b092e0503e8d34865b02b1302d4a926fff961a3bbb94d7f101832b68a"
   }
  }
 },
 "nbformat": 4,
 "nbformat_minor": 2
}
