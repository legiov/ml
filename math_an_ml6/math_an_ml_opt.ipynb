{
 "cells": [
  {
   "cell_type": "code",
   "execution_count": 11,
   "metadata": {},
   "outputs": [],
   "source": [
    "from sympy import *\n",
    "import numpy as np\n",
    "import random"
   ]
  },
  {
   "cell_type": "code",
   "execution_count": 3,
   "metadata": {},
   "outputs": [
    {
     "data": {
      "text/latex": [
       "$\\displaystyle - 4 x^{3} + 18 x^{2} - 8 x$"
      ],
      "text/plain": [
       "-4*x**3 + 18*x**2 - 8*x"
      ]
     },
     "execution_count": 3,
     "metadata": {},
     "output_type": "execute_result"
    }
   ],
   "source": [
    "x = Symbol('x')\n",
    "f = - x**4 + 6*x**3 - 4*x**2 + 80\n",
    "dfx = f.diff(x)\n",
    "dfx"
   ]
  },
  {
   "cell_type": "code",
   "execution_count": 17,
   "metadata": {},
   "outputs": [
    {
     "name": "stdout",
     "output_type": "stream",
     "text": [
      "[0.  0.5 4. ]\n"
     ]
    }
   ],
   "source": [
    "ext = solve(dfx, x)\n",
    "ext = np.float32(ext)\n",
    "print(ext)"
   ]
  },
  {
   "cell_type": "code",
   "execution_count": 28,
   "metadata": {},
   "outputs": [
    {
     "name": "stdout",
     "output_type": "stream",
     "text": [
      "False False\n",
      "True True\n",
      "False False\n",
      "[0.0, 4.0]\n",
      "144.000\n"
     ]
    }
   ],
   "source": [
    "i = 0\n",
    "ext_max = []\n",
    "while i < len(ext):\n",
    "    if i == 0:\n",
    "        num1 = random.uniform(ext[i] - 5, ext[i])\n",
    "    else:\n",
    "        num1 = random.uniform(ext[i-1], ext[i])\n",
    "    \n",
    "    if len(ext) - i == 1:\n",
    "        num2 = random.uniform(ext[i], ext[i] + 5)\n",
    "    else:\n",
    "        num2 = random.uniform(ext[i], ext[i+1])\n",
    "    print(dfx.subs(x, num1) < 0, dfx.subs(x, num2) > 0)    \n",
    "    if dfx.subs(x, num1) > 0 and dfx.subs(x, num2) < 0:\n",
    "        ext_max.append(ext[i])\n",
    "    \n",
    "    i += 1\n",
    "print(ext_max)    \n",
    "max_result = 0\n",
    "for ext_m in ext_max:\n",
    "    cur_result = f.subs(x, ext_m)\n",
    "    if cur_result > max_result:\n",
    "        max_result = cur_result\n",
    "        \n",
    "print(max_result)"
   ]
  },
  {
   "cell_type": "code",
   "execution_count": 31,
   "metadata": {},
   "outputs": [],
   "source": [
    "x, y, l = symbols('x y l')\n",
    "g = x**2 + 2*y**2\n",
    "q = x + y - 20\n",
    "f = g + l*q\n",
    "dfx = f.diff(x)\n",
    "dfy = f.diff(y)\n",
    "dfl = f.diff(l)"
   ]
  },
  {
   "cell_type": "code",
   "execution_count": 37,
   "metadata": {},
   "outputs": [
    {
     "name": "stdout",
     "output_type": "stream",
     "text": [
      "{x: 40/3, y: 20/3, l: -80/3}\n",
      "13.333333333333334\n",
      "6.666666666666667\n",
      "267\n"
     ]
    }
   ],
   "source": [
    "sols = solve([dfx, dfy, dfl], x, y, l)\n",
    "print(sols)\n",
    "print(float(sols[x]))\n",
    "print(float(sols[y]))\n",
    "rx = round(sols[x])\n",
    "ry = round(sols[y])\n",
    "res = f.subs({x: rx, y:ry})\n",
    "print(res)"
   ]
  }
 ],
 "metadata": {
  "kernelspec": {
   "display_name": "Python 3.8.13 ('sf')",
   "language": "python",
   "name": "python3"
  },
  "language_info": {
   "codemirror_mode": {
    "name": "ipython",
    "version": 3
   },
   "file_extension": ".py",
   "mimetype": "text/x-python",
   "name": "python",
   "nbconvert_exporter": "python",
   "pygments_lexer": "ipython3",
   "version": "3.8.13"
  },
  "orig_nbformat": 4,
  "vscode": {
   "interpreter": {
    "hash": "8735010b092e0503e8d34865b02b1302d4a926fff961a3bbb94d7f101832b68a"
   }
  }
 },
 "nbformat": 4,
 "nbformat_minor": 2
}
