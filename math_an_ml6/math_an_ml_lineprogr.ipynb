{
 "cells": [
  {
   "cell_type": "code",
   "execution_count": 58,
   "metadata": {},
   "outputs": [],
   "source": [
    "import imp\n",
    "import numpy as np\n",
    "from scipy.optimize import linprog\n",
    "import cvxpy\n",
    "from pulp import *"
   ]
  },
  {
   "cell_type": "code",
   "execution_count": 59,
   "metadata": {},
   "outputs": [],
   "source": [
    "values = [4, 2, 1, 7, 3, 6] #стоимости товаров\n",
    "weights = [5, 9, 8, 2, 6, 5] #вес товаров\n",
    "C = 15 #вместимость сумки\n",
    "n = 6 #количество товаров"
   ]
  },
  {
   "cell_type": "code",
   "execution_count": 60,
   "metadata": {},
   "outputs": [],
   "source": [
    "c = - np.array(values)\n",
    "A = np.array(weights)\n",
    "A = np.expand_dims(A, 0)\n",
    "b = np.array([C])\n"
   ]
  },
  {
   "cell_type": "code",
   "execution_count": 61,
   "metadata": {},
   "outputs": [
    {
     "data": {
      "text/plain": [
       "           con: array([], dtype=float64)\n",
       " crossover_nit: 0\n",
       "         eqlin:  marginals: array([], dtype=float64)\n",
       "  residual: array([], dtype=float64)\n",
       "           fun: -52.5\n",
       "       ineqlin:  marginals: array([-3.5])\n",
       "  residual: array([0.])\n",
       "         lower:  marginals: array([13.5, 29.5, 27. ,  0. , 18. , 11.5])\n",
       "  residual: array([0. , 0. , 0. , 7.5, 0. , 0. ])\n",
       "       message: 'Optimization terminated successfully. (HiGHS Status 7: Optimal)'\n",
       "           nit: 0\n",
       "         slack: array([0.])\n",
       "        status: 0\n",
       "       success: True\n",
       "         upper:  marginals: array([0., 0., 0., 0., 0., 0.])\n",
       "  residual: array([inf, inf, inf, inf, inf, inf])\n",
       "             x: array([0. , 0. , 0. , 7.5, 0. , 0. ])"
      ]
     },
     "execution_count": 61,
     "metadata": {},
     "output_type": "execute_result"
    }
   ],
   "source": [
    "linprog(c=c, A_ub=A, b_ub=b)"
   ]
  },
  {
   "cell_type": "code",
   "execution_count": 62,
   "metadata": {},
   "outputs": [],
   "source": [
    "x = cvxpy.Variable(shape=n, integer=True)\n"
   ]
  },
  {
   "cell_type": "code",
   "execution_count": 63,
   "metadata": {},
   "outputs": [],
   "source": [
    "x = cvxpy.Variable(shape=n, boolean=True)"
   ]
  },
  {
   "cell_type": "code",
   "execution_count": 64,
   "metadata": {},
   "outputs": [
    {
     "name": "stderr",
     "output_type": "stream",
     "text": [
      "/home/vadim/anaconda3/envs/sf/lib/python3.8/site-packages/cvxpy/expressions/expression.py:593: UserWarning: \n",
      "This use of ``*`` has resulted in matrix multiplication.\n",
      "Using ``*`` for matrix multiplication has been deprecated since CVXPY 1.1.\n",
      "    Use ``*`` for matrix-scalar and vector-scalar multiplication.\n",
      "    Use ``@`` for matrix-matrix and matrix-vector multiplication.\n",
      "    Use ``multiply`` for elementwise multiplication.\n",
      "This code path has been hit 3 times so far.\n",
      "\n",
      "  warnings.warn(msg, UserWarning)\n"
     ]
    }
   ],
   "source": [
    "constraint = (A @ x <= b)\n",
    "total_value = c * x\n",
    "x_positive = (x >= 0)"
   ]
  },
  {
   "cell_type": "code",
   "execution_count": null,
   "metadata": {},
   "outputs": [],
   "source": []
  },
  {
   "cell_type": "code",
   "execution_count": 65,
   "metadata": {},
   "outputs": [
    {
     "data": {
      "text/plain": [
       "-17.0"
      ]
     },
     "execution_count": 65,
     "metadata": {},
     "output_type": "execute_result"
    }
   ],
   "source": [
    "problem = cvxpy.Problem(cvxpy.Minimize(total_value), constraints=[constraint, x_positive])\n",
    "problem.solve()"
   ]
  },
  {
   "cell_type": "code",
   "execution_count": 66,
   "metadata": {},
   "outputs": [
    {
     "name": "stdout",
     "output_type": "stream",
     "text": [
      "[1. 0. 0. 1. 0. 1.]\n"
     ]
    }
   ],
   "source": [
    "print(x.value)"
   ]
  },
  {
   "cell_type": "code",
   "execution_count": 67,
   "metadata": {},
   "outputs": [
    {
     "name": "stderr",
     "output_type": "stream",
     "text": [
      "/home/vadim/anaconda3/envs/sf/lib/python3.8/site-packages/pulp/pulp.py:1352: UserWarning: Spaces are not permitted in the name. Converted to '_'\n",
      "  warnings.warn(\"Spaces are not permitted in the name. Converted to '_'\")\n"
     ]
    },
    {
     "ename": "PulpSolverError",
     "evalue": "PuLP: Error while executing glpsol",
     "output_type": "error",
     "traceback": [
      "\u001b[0;31m---------------------------------------------------------------------------\u001b[0m",
      "\u001b[0;31mPulpSolverError\u001b[0m                           Traceback (most recent call last)",
      "\u001b[1;32m/home/vadim/pythonw/math_an_ml6/math_an_ml_lineprogr.ipynb Ячейка 11\u001b[0m in \u001b[0;36m<cell line: 9>\u001b[0;34m()\u001b[0m\n\u001b[1;32m      <a href='vscode-notebook-cell:/home/vadim/pythonw/math_an_ml6/math_an_ml_lineprogr.ipynb#X13sZmlsZQ%3D%3D?line=6'>7</a>\u001b[0m problem \u001b[39m+\u001b[39m\u001b[39m=\u001b[39m \u001b[39m3\u001b[39m\u001b[39m*\u001b[39mA \u001b[39m+\u001b[39m \u001b[39m6\u001b[39m\u001b[39m*\u001b[39mB \u001b[39m<\u001b[39m\u001b[39m=\u001b[39m \u001b[39m30\u001b[39m\n\u001b[1;32m      <a href='vscode-notebook-cell:/home/vadim/pythonw/math_an_ml6/math_an_ml_lineprogr.ipynb#X13sZmlsZQ%3D%3D?line=7'>8</a>\u001b[0m problem \u001b[39m+\u001b[39m\u001b[39m=\u001b[39m \u001b[39m2\u001b[39m\u001b[39m*\u001b[39mA \u001b[39m+\u001b[39m \u001b[39m7\u001b[39m\u001b[39m*\u001b[39mB \u001b[39m<\u001b[39m\u001b[39m=\u001b[39m \u001b[39m30\u001b[39m\n\u001b[0;32m----> <a href='vscode-notebook-cell:/home/vadim/pythonw/math_an_ml6/math_an_ml_lineprogr.ipynb#X13sZmlsZQ%3D%3D?line=8'>9</a>\u001b[0m problem\u001b[39m.\u001b[39;49msolve()\n\u001b[1;32m     <a href='vscode-notebook-cell:/home/vadim/pythonw/math_an_ml6/math_an_ml_lineprogr.ipynb#X13sZmlsZQ%3D%3D?line=9'>10</a>\u001b[0m \u001b[39mprint\u001b[39m(\u001b[39m'\u001b[39m\u001b[39mКоличиство автомобилей А:\u001b[39m\u001b[39m'\u001b[39m, A\u001b[39m.\u001b[39mvarValue)\n\u001b[1;32m     <a href='vscode-notebook-cell:/home/vadim/pythonw/math_an_ml6/math_an_ml_lineprogr.ipynb#X13sZmlsZQ%3D%3D?line=10'>11</a>\u001b[0m \u001b[39mprint\u001b[39m(\u001b[39m'\u001b[39m\u001b[39mКоличество автомобилей В:\u001b[39m\u001b[39m'\u001b[39m, B\u001b[39m.\u001b[39mvarValue)\n",
      "File \u001b[0;32m~/anaconda3/envs/sf/lib/python3.8/site-packages/pulp/pulp.py:1913\u001b[0m, in \u001b[0;36mLpProblem.solve\u001b[0;34m(self, solver, **kwargs)\u001b[0m\n\u001b[1;32m   1911\u001b[0m \u001b[39m# time it\u001b[39;00m\n\u001b[1;32m   1912\u001b[0m \u001b[39mself\u001b[39m\u001b[39m.\u001b[39mstartClock()\n\u001b[0;32m-> 1913\u001b[0m status \u001b[39m=\u001b[39m solver\u001b[39m.\u001b[39;49mactualSolve(\u001b[39mself\u001b[39;49m, \u001b[39m*\u001b[39;49m\u001b[39m*\u001b[39;49mkwargs)\n\u001b[1;32m   1914\u001b[0m \u001b[39mself\u001b[39m\u001b[39m.\u001b[39mstopClock()\n\u001b[1;32m   1915\u001b[0m \u001b[39mself\u001b[39m\u001b[39m.\u001b[39mrestoreObjective(wasNone, dummyVar)\n",
      "File \u001b[0;32m~/anaconda3/envs/sf/lib/python3.8/site-packages/pulp/apis/glpk_api.py:115\u001b[0m, in \u001b[0;36mGLPK_CMD.actualSolve\u001b[0;34m(self, lp)\u001b[0m\n\u001b[1;32m    112\u001b[0m \u001b[39mself\u001b[39m\u001b[39m.\u001b[39msolution_time \u001b[39m+\u001b[39m\u001b[39m=\u001b[39m clock()\n\u001b[1;32m    114\u001b[0m \u001b[39mif\u001b[39;00m \u001b[39mnot\u001b[39;00m os\u001b[39m.\u001b[39mpath\u001b[39m.\u001b[39mexists(tmpSol):\n\u001b[0;32m--> 115\u001b[0m     \u001b[39mraise\u001b[39;00m PulpSolverError(\u001b[39m\"\u001b[39m\u001b[39mPuLP: Error while executing \u001b[39m\u001b[39m\"\u001b[39m \u001b[39m+\u001b[39m \u001b[39mself\u001b[39m\u001b[39m.\u001b[39mpath)\n\u001b[1;32m    116\u001b[0m status, values \u001b[39m=\u001b[39m \u001b[39mself\u001b[39m\u001b[39m.\u001b[39mreadsol(tmpSol)\n\u001b[1;32m    117\u001b[0m lp\u001b[39m.\u001b[39massignVarsVals(values)\n",
      "\u001b[0;31mPulpSolverError\u001b[0m: PuLP: Error while executing glpsol"
     ]
    }
   ],
   "source": [
    "problem = LpProblem('Производство машин', LpMaximize)\n",
    "A = LpVariable('Автомобиль А', lowBound=0, cat=LpInteger)\n",
    "B = LpVariable('Автомобиль В', lowBound=0, cat=LpInteger)\n",
    "problem += 20000*A + 45000*B\n",
    "\n",
    "problem += 4*A + 5*B <= 30\n",
    "problem += 3*A + 6*B <= 30\n",
    "problem += 2*A + 7*B <= 30\n",
    "problem.solve()\n",
    "print('Количиство автомобилей А:', A.varValue)\n",
    "print('Количество автомобилей В:', B.varValue)\n",
    "print('Суммарный доход:', value(problem.objective))"
   ]
  },
  {
   "cell_type": "code",
   "execution_count": 78,
   "metadata": {},
   "outputs": [],
   "source": [
    "sk1 = [2, 5, 3]\n",
    "sk2 = [7, 7, 6]\n",
    "\n",
    "needs = [110, 150, 140]\n",
    "have = [180, 220]\n",
    "\n",
    "c = np.array([sk1, sk2])\n",
    "c\n",
    "needs = np.array(needs)\n",
    "stock = np.array(have)\n",
    "num_w = 2\n",
    "num_cl = 3"
   ]
  },
  {
   "cell_type": "code",
   "execution_count": 79,
   "metadata": {},
   "outputs": [
    {
     "name": "stdout",
     "output_type": "stream",
     "text": [
      "[2 5 3 7 7 6]\n"
     ]
    }
   ],
   "source": [
    "c = c.flatten()\n",
    "print(c)"
   ]
  },
  {
   "cell_type": "code",
   "execution_count": 80,
   "metadata": {},
   "outputs": [
    {
     "name": "stdout",
     "output_type": "stream",
     "text": [
      "[[1 1 1 0 0 0]\n",
      " [0 0 0 1 1 1]]\n",
      "[180 220]\n"
     ]
    }
   ],
   "source": [
    "A = []\n",
    "b = []\n",
    "for i in range(0, num_w):\n",
    "    A.append([0]*(num_cl*i) + [1]*num_cl + [0]*(num_cl*(num_w - i -1)))\n",
    "    b.append(stock[i])\n",
    "A = np.asarray(A)\n",
    "b = np.asarray(b)\n",
    "print(A)\n",
    "print(b)"
   ]
  },
  {
   "cell_type": "code",
   "execution_count": 81,
   "metadata": {},
   "outputs": [
    {
     "name": "stdout",
     "output_type": "stream",
     "text": [
      "[[ 1  1  1  0  0  0]\n",
      " [ 0  0  0  1  1  1]\n",
      " [-1  0  0 -1  0  0]\n",
      " [ 0 -1  0  0 -1  0]\n",
      " [ 0  0 -1  0  0 -1]]\n",
      "[ 180  220 -110 -150 -140]\n"
     ]
    }
   ],
   "source": [
    "A = A.tolist()\n",
    "b = b.tolist()\n",
    "\n",
    "for j in range(0, num_cl):\n",
    "    A.append(([0]*j +[-1]+[0]*(num_cl - j - 1))*num_w)\n",
    "    b.append(-needs[j])\n",
    "    \n",
    "A = np.asarray(A)\n",
    "b = np.asarray(b)\n",
    "print(A)\n",
    "print(b)"
   ]
  },
  {
   "cell_type": "code",
   "execution_count": 82,
   "metadata": {},
   "outputs": [
    {
     "data": {
      "text/plain": [
       "           con: array([], dtype=float64)\n",
       " crossover_nit: 0\n",
       "         eqlin:  marginals: array([], dtype=float64)\n",
       "  residual: array([], dtype=float64)\n",
       "           fun: 1900.0\n",
       "       ineqlin:  marginals: array([-3., -0., -5., -7., -6.])\n",
       "  residual: array([0., 0., 0., 0., 0.])\n",
       "         lower:  marginals: array([0., 1., 0., 2., 0., 0.])\n",
       "  residual: array([110.,   0.,  70.,   0., 150.,  70.])\n",
       "       message: 'Optimization terminated successfully. (HiGHS Status 7: Optimal)'\n",
       "           nit: 5\n",
       "         slack: array([0., 0., 0., 0., 0.])\n",
       "        status: 0\n",
       "       success: True\n",
       "         upper:  marginals: array([0., 0., 0., 0., 0., 0.])\n",
       "  residual: array([inf, inf, inf, inf, inf, inf])\n",
       "             x: array([110.,   0.,  70.,   0., 150.,  70.])"
      ]
     },
     "execution_count": 82,
     "metadata": {},
     "output_type": "execute_result"
    }
   ],
   "source": [
    "linprog(c=c, A_ub=A, b_ub=b)"
   ]
  },
  {
   "cell_type": "code",
   "execution_count": 84,
   "metadata": {},
   "outputs": [
    {
     "data": {
      "text/plain": [
       "1900"
      ]
     },
     "execution_count": 84,
     "metadata": {},
     "output_type": "execute_result"
    }
   ],
   "source": [
    "110*2 + 70*3 + 150*7+ 70*6"
   ]
  },
  {
   "cell_type": "code",
   "execution_count": 85,
   "metadata": {},
   "outputs": [],
   "source": [
    "c = np.array([[1000, 12, 10, 19, 8],\n",
    "    [12, 1000, 3, 7, 2], \n",
    "    [10, 3, 1000, 6, 20], \n",
    "    [19, 7, 6, 1000, 4], \n",
    "    [8, 2, 20, 4, 1000]])"
   ]
  },
  {
   "cell_type": "code",
   "execution_count": 86,
   "metadata": {},
   "outputs": [],
   "source": [
    "x = cvxpy.Variable(shape=(5,5), boolean=True)"
   ]
  },
  {
   "cell_type": "code",
   "execution_count": 89,
   "metadata": {},
   "outputs": [],
   "source": [
    "constraint = [\n",
    "    cvxpy.sum(x, axis=0) == np.ones(5),\n",
    "    cvxpy.sum(x, axis=1) == np.ones(5)\n",
    "]\n",
    "func = cvxpy.sum(cvxpy.multiply(x, c))"
   ]
  },
  {
   "cell_type": "code",
   "execution_count": 90,
   "metadata": {},
   "outputs": [
    {
     "data": {
      "text/plain": [
       "32.0"
      ]
     },
     "execution_count": 90,
     "metadata": {},
     "output_type": "execute_result"
    }
   ],
   "source": [
    "problem = cvxpy.Problem(cvxpy.Minimize(func), constraints=constraint)\n",
    "problem.solve()"
   ]
  },
  {
   "cell_type": "code",
   "execution_count": 91,
   "metadata": {},
   "outputs": [
    {
     "data": {
      "text/plain": [
       "array([[0., 0., 0., 0., 1.],\n",
       "       [0., 0., 0., 1., 0.],\n",
       "       [0., 1., 0., 0., 0.],\n",
       "       [0., 0., 1., 0., 0.],\n",
       "       [1., 0., 0., 0., 0.]])"
      ]
     },
     "execution_count": 91,
     "metadata": {},
     "output_type": "execute_result"
    }
   ],
   "source": [
    "np.round(x.value)"
   ]
  }
 ],
 "metadata": {
  "kernelspec": {
   "display_name": "Python 3.8.13 ('sf')",
   "language": "python",
   "name": "python3"
  },
  "language_info": {
   "codemirror_mode": {
    "name": "ipython",
    "version": 3
   },
   "file_extension": ".py",
   "mimetype": "text/x-python",
   "name": "python",
   "nbconvert_exporter": "python",
   "pygments_lexer": "ipython3",
   "version": "3.8.13"
  },
  "orig_nbformat": 4,
  "vscode": {
   "interpreter": {
    "hash": "8735010b092e0503e8d34865b02b1302d4a926fff961a3bbb94d7f101832b68a"
   }
  }
 },
 "nbformat": 4,
 "nbformat_minor": 2
}
