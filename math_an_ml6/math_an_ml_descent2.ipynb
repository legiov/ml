{
 "cells": [
  {
   "cell_type": "code",
   "execution_count": 2,
   "metadata": {},
   "outputs": [],
   "source": [
    "import numpy as np\n",
    "from sympy import *\n",
    "from scipy.optimize import minimize"
   ]
  },
  {
   "cell_type": "code",
   "execution_count": 3,
   "metadata": {},
   "outputs": [
    {
     "data": {
      "text/latex": [
       "$\\displaystyle 30 x^{4} - 20 x^{3} - 12 x^{2} - 6 x$"
      ],
      "text/plain": [
       "30*x**4 - 20*x**3 - 12*x**2 - 6*x"
      ]
     },
     "execution_count": 3,
     "metadata": {},
     "output_type": "execute_result"
    }
   ],
   "source": [
    "x = Symbol('x')\n",
    "f = 6*x**5 - 5*x**4 - 4*x**3 - 3*x**2\n",
    "#f = x**2 - 4*x - 7\n",
    "dfx = f.diff(x)\n",
    "dfx"
   ]
  },
  {
   "cell_type": "code",
   "execution_count": 4,
   "metadata": {},
   "outputs": [
    {
     "name": "stdout",
     "output_type": "stream",
     "text": [
      "-3.03408000000000\n"
     ]
    }
   ],
   "source": [
    "print(f.subs(x, 0.7))"
   ]
  },
  {
   "cell_type": "code",
   "execution_count": 5,
   "metadata": {},
   "outputs": [
    {
     "data": {
      "text/latex": [
       "$\\displaystyle 6 x^{5} - 5 x^{4} - 4 x^{3} - 3 x^{2}$"
      ],
      "text/plain": [
       "6*x**5 - 5*x**4 - 4*x**3 - 3*x**2"
      ]
     },
     "execution_count": 5,
     "metadata": {},
     "output_type": "execute_result"
    }
   ],
   "source": [
    "f"
   ]
  },
  {
   "cell_type": "code",
   "execution_count": 6,
   "metadata": {},
   "outputs": [],
   "source": [
    "x = Symbol('x')\n",
    "f = 6*x**5 - 5*x**4 - 4*x**3 + 3*x**2\n",
    "dfx = f.diff(x)\n",
    "x0 = 0.7\n"
   ]
  },
  {
   "cell_type": "code",
   "execution_count": 7,
   "metadata": {},
   "outputs": [
    {
     "name": "stdout",
     "output_type": "stream",
     "text": [
      "i= 0 x= 0.630\n",
      "i= 1 x= 0.629\n",
      "i= 2 x= 0.629\n",
      "i= 3 x= 0.629\n",
      "i= 4 x= 0.629\n",
      "i= 5 x= 0.629\n",
      "i= 6 x= 0.629\n",
      "i= 7 x= 0.629\n",
      "i= 8 x= 0.629\n",
      "i= 9 x= 0.629\n",
      "i= 10 x= 0.629\n",
      "i= 11 x= 0.629\n"
     ]
    }
   ],
   "source": [
    "i = 0\n",
    "x_cur = x0\n",
    "while True:\n",
    "    x_new = x_cur - f.subs(x, x_cur)/dfx.subs(x, x_cur)\n",
    "\n",
    "    x_cur = x_new\n",
    "    \n",
    "    print('i=', i,'x=', round(x_cur, 3))\n",
    "    if i > 10:\n",
    "        break\n",
    "    i += 1"
   ]
  },
  {
   "cell_type": "code",
   "execution_count": 8,
   "metadata": {},
   "outputs": [
    {
     "data": {
      "text/plain": [
       "[(0,), (1,), (-1/12 + sqrt(73)/12,), (-sqrt(73)/12 - 1/12,)]"
      ]
     },
     "execution_count": 8,
     "metadata": {},
     "output_type": "execute_result"
    }
   ],
   "source": [
    "solve([Eq(f, 0)], x)"
   ]
  },
  {
   "cell_type": "code",
   "execution_count": 9,
   "metadata": {},
   "outputs": [
    {
     "data": {
      "text/latex": [
       "$\\displaystyle 6 x - 6$"
      ],
      "text/plain": [
       "6*x - 6"
      ]
     },
     "execution_count": 9,
     "metadata": {},
     "output_type": "execute_result"
    }
   ],
   "source": [
    "f = x**3 - 3*x**2 - 45*x + 40\n",
    "dfx = f.diff(x)\n",
    "dfxx = dfx.diff(x)\n",
    "dfxx"
   ]
  },
  {
   "cell_type": "code",
   "execution_count": 10,
   "metadata": {},
   "outputs": [
    {
     "name": "stdout",
     "output_type": "stream",
     "text": [
      "i= 0 x= 21.695\n",
      "i= 1 x= 11.734\n",
      "i= 2 x= 7.112\n",
      "i= 3 x= 5.365\n",
      "i= 4 x= 5.015\n",
      "i= 5 x= 5.00000000000000\n",
      "i= 6 x= 5.00000000000000\n"
     ]
    }
   ],
   "source": [
    "x0 = 42\n",
    "\n",
    "def newton_calc(x_cur, func1, func2, eps = 0.0001):\n",
    "    i = 0\n",
    "    diff = 1\n",
    "    while diff > eps:\n",
    "        \n",
    "        x_new = x_cur - func1.subs(x, x_cur)/func2.subs(x, x_cur)\n",
    "\n",
    "        x_cur = x_new\n",
    "        diff = func1.subs(x, x_cur)\n",
    "        print('i=', i,'x=', round(x_cur, 3))\n",
    "\n",
    "        i += 1\n",
    "        \n",
    "newton_calc(x0, dfx, dfxx)"
   ]
  },
  {
   "cell_type": "code",
   "execution_count": 11,
   "metadata": {},
   "outputs": [
    {
     "name": "stdout",
     "output_type": "stream",
     "text": [
      "i= 0 x= 10.211\n",
      "i= 1 x= 9.756\n",
      "i= 2 x= 9.727\n",
      "i= 3 x= 9.727\n"
     ]
    }
   ],
   "source": [
    "f = x**3 - 72*x - 220\n",
    "dfx = f.diff(x)\n",
    "newton_calc(12, f, dfx)"
   ]
  },
  {
   "cell_type": "code",
   "execution_count": 12,
   "metadata": {},
   "outputs": [
    {
     "name": "stdout",
     "output_type": "stream",
     "text": [
      "i= 0 x= 0.734\n",
      "i= 1 x= 0.529\n",
      "i= 2 x= 0.525\n"
     ]
    }
   ],
   "source": [
    "f = x**2 + 9*x - 5\n",
    "dfx = f.diff(x)\n",
    "newton_calc(2.2, f, dfx)"
   ]
  },
  {
   "cell_type": "code",
   "execution_count": 13,
   "metadata": {},
   "outputs": [
    {
     "name": "stdout",
     "output_type": "stream",
     "text": [
      "i= 0 x= 28.039\n",
      "i= 1 x= 18.744\n",
      "i= 2 x= 12.578\n",
      "i= 3 x= 8.534\n",
      "i= 4 x= 5.980\n",
      "i= 5 x= 4.555\n",
      "i= 6 x= 4.003\n",
      "i= 7 x= 3.919\n",
      "i= 8 x= 3.917\n",
      "i= 9 x= 3.917\n"
     ]
    }
   ],
   "source": [
    "f = 8*x**3 - 2*x**2 - 450\n",
    "dfx = f.diff(x)\n",
    "dfxx = dfx.diff(x)\n",
    "newton_calc(42, f, dfx)"
   ]
  },
  {
   "cell_type": "code",
   "execution_count": 47,
   "metadata": {},
   "outputs": [],
   "source": [
    "x, y = symbols('x y')\n",
    "f = x**2.0 + y**2.0"
   ]
  },
  {
   "cell_type": "code",
   "execution_count": 61,
   "metadata": {},
   "outputs": [],
   "source": [
    "def func(val):\n",
    "    return val[0]**2 - val[0]*val[1] + val[1]**2 + 9*val[0] - 6*val[1] + 20\n",
    "def grad_func(val):\n",
    "    return np.array([2*val[0] - val[1] + 9, - val[0] + 2*val[1] - 6])"
   ]
  },
  {
   "cell_type": "code",
   "execution_count": 73,
   "metadata": {},
   "outputs": [],
   "source": [
    "x0 = 10"
   ]
  },
  {
   "cell_type": "code",
   "execution_count": 77,
   "metadata": {},
   "outputs": [],
   "source": [
    "def func(val):\n",
    "    return val**2 - 3*val + 45\n",
    "\n",
    "def grad_func(val):\n",
    "    return 2*val - 3"
   ]
  },
  {
   "cell_type": "code",
   "execution_count": 85,
   "metadata": {},
   "outputs": [],
   "source": [
    "x0 = [100, 100]\n",
    "def func(val):\n",
    "    return val[0]**4 + 6*val[1]**2 + 10\n",
    "def grad_func(val):\n",
    "    return np.array([4*val[0]**3, 12*val[1]])"
   ]
  },
  {
   "cell_type": "code",
   "execution_count": 90,
   "metadata": {},
   "outputs": [],
   "source": [
    "result = minimize(func, x0, method='BFGS', jac=grad_func)"
   ]
  },
  {
   "cell_type": "code",
   "execution_count": 91,
   "metadata": {},
   "outputs": [
    {
     "name": "stdout",
     "output_type": "stream",
     "text": [
      "Статус оптимизации:  Optimization terminated successfully.\n",
      "Количество оценок:  37\n",
      "[1.31617159e-02 6.65344582e-14]\n",
      "10.000000030008898\n"
     ]
    }
   ],
   "source": [
    "print('Статус оптимизации: ', result['message'])\n",
    "print('Количество оценок: ', result['nfev'])\n",
    "solution = result['x']\n",
    "print(solution)\n",
    "\n",
    "evaluation = func(solution)\n",
    "print(evaluation)"
   ]
  }
 ],
 "metadata": {
  "kernelspec": {
   "display_name": "Python 3.8.13 ('sf')",
   "language": "python",
   "name": "python3"
  },
  "language_info": {
   "codemirror_mode": {
    "name": "ipython",
    "version": 3
   },
   "file_extension": ".py",
   "mimetype": "text/x-python",
   "name": "python",
   "nbconvert_exporter": "python",
   "pygments_lexer": "ipython3",
   "version": "3.8.13"
  },
  "orig_nbformat": 4,
  "vscode": {
   "interpreter": {
    "hash": "8735010b092e0503e8d34865b02b1302d4a926fff961a3bbb94d7f101832b68a"
   }
  }
 },
 "nbformat": 4,
 "nbformat_minor": 2
}
