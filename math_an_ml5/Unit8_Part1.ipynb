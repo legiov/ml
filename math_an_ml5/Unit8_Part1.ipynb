{
 "cells": [
  {
   "cell_type": "code",
   "execution_count": 1,
   "metadata": {},
   "outputs": [],
   "source": [
    "def f(x, y):\n",
    "    return (1 - x) ** 2 + 100 * (y - x ** 2) ** 2\n",
    "def grad(x, y):\n",
    "    dx = 2 * x - 2 + 100 * (-4 * y * x + 4 * x ** 3)\n",
    "    dy = 100 * (2 * y - 2 * x ** 2)\n",
    "    return (dx, dy)"
   ]
  },
  {
   "cell_type": "code",
   "execution_count": 2,
   "metadata": {},
   "outputs": [
    {
     "name": "stdout",
     "output_type": "stream",
     "text": [
      "iter=1; x=(0.2000, 0.0000); f(x)=0.8000; grad f(x)=(1.6000, -8.0000)\n",
      "iter=2; x=(0.0400, 0.8000); f(x)=64.6659; grad f(x)=(-14.6944, 159.6800)\n",
      "iter=3; x=(1.5094, -15.1680); f(x)=30437.9786; grad f(x)=(10534.7420, -3489.2818)\n",
      "iter=4; x=(-1051.9648, 333.7602); f(x)=122389105819928.5312; grad f(x)=(-465513803530.6677, -221259218.7559)\n",
      "iter=5; x=(46551379301.1020, 22126255.6358); f(x)=469602298585082037579506354357288181763670016.0000; grad f(x)=(40351311229480141163259604374650880.0000, -433406182967009431519232.0000)\n",
      "iter=6; x=(-4035131122948014116325960437465088.0000, 43340618296700973350912.0000); f(x)=26511274553364140006344123691967438129060889357112486001204804225071624796417092309647960873271021194936228396991403743969439598031929344.0000; grad f(x)=(-26280459043913645498310141413360072579958822042946770910225581029210063949577271439317948874065283383296.0000, -3256456635876740259836304948942575389624312223259101324309298570854400.0000)\n"
     ]
    },
    {
     "ename": "OverflowError",
     "evalue": "(34, 'Numerical result out of range')",
     "output_type": "error",
     "traceback": [
      "\u001b[0;31m---------------------------------------------------------------------------\u001b[0m",
      "\u001b[0;31mOverflowError\u001b[0m                             Traceback (most recent call last)",
      "\u001b[1;32m/home/vadim/pythonw/math_an_ml5/Unit8_Part1.ipynb Ячейка 2\u001b[0m in \u001b[0;36m<cell line: 9>\u001b[0;34m()\u001b[0m\n\u001b[1;32m     <a href='vscode-notebook-cell:/home/vadim/pythonw/math_an_ml5/Unit8_Part1.ipynb#W1sZmlsZQ%3D%3D?line=11'>12</a>\u001b[0m     \u001b[39mbreak\u001b[39;00m\n\u001b[1;32m     <a href='vscode-notebook-cell:/home/vadim/pythonw/math_an_ml5/Unit8_Part1.ipynb#W1sZmlsZQ%3D%3D?line=12'>13</a>\u001b[0m x_cur \u001b[39m=\u001b[39m x_new\n\u001b[0;32m---> <a href='vscode-notebook-cell:/home/vadim/pythonw/math_an_ml5/Unit8_Part1.ipynb#W1sZmlsZQ%3D%3D?line=13'>14</a>\u001b[0m vals\u001b[39m.\u001b[39mappend(f(\u001b[39m*\u001b[39;49mx_cur))\n\u001b[1;32m     <a href='vscode-notebook-cell:/home/vadim/pythonw/math_an_ml5/Unit8_Part1.ipynb#W1sZmlsZQ%3D%3D?line=14'>15</a>\u001b[0m coords\u001b[39m.\u001b[39mappend(x_cur)\n\u001b[1;32m     <a href='vscode-notebook-cell:/home/vadim/pythonw/math_an_ml5/Unit8_Part1.ipynb#W1sZmlsZQ%3D%3D?line=15'>16</a>\u001b[0m i \u001b[39m+\u001b[39m\u001b[39m=\u001b[39m \u001b[39m1\u001b[39m\n",
      "\u001b[1;32m/home/vadim/pythonw/math_an_ml5/Unit8_Part1.ipynb Ячейка 2\u001b[0m in \u001b[0;36mf\u001b[0;34m(x, y)\u001b[0m\n\u001b[1;32m      <a href='vscode-notebook-cell:/home/vadim/pythonw/math_an_ml5/Unit8_Part1.ipynb#W1sZmlsZQ%3D%3D?line=0'>1</a>\u001b[0m \u001b[39mdef\u001b[39;00m \u001b[39mf\u001b[39m(x, y):\n\u001b[0;32m----> <a href='vscode-notebook-cell:/home/vadim/pythonw/math_an_ml5/Unit8_Part1.ipynb#W1sZmlsZQ%3D%3D?line=1'>2</a>\u001b[0m     \u001b[39mreturn\u001b[39;00m (\u001b[39m1\u001b[39m \u001b[39m-\u001b[39m x) \u001b[39m*\u001b[39m\u001b[39m*\u001b[39m \u001b[39m2\u001b[39m \u001b[39m+\u001b[39m \u001b[39m100\u001b[39m \u001b[39m*\u001b[39m (y \u001b[39m-\u001b[39;49m x \u001b[39m*\u001b[39;49m\u001b[39m*\u001b[39;49m \u001b[39m2\u001b[39;49m) \u001b[39m*\u001b[39;49m\u001b[39m*\u001b[39;49m \u001b[39m2\u001b[39;49m\n",
      "\u001b[0;31mOverflowError\u001b[0m: (34, 'Numerical result out of range')"
     ]
    }
   ],
   "source": [
    "x0 = (0, 0)\n",
    "gamma = 0.1\n",
    "x_cur = x0\n",
    "\n",
    "vals = []\n",
    "coords = []\n",
    "i = 0\n",
    "while True:\n",
    "    x_new = (x_cur[0] - gamma * grad(*x_cur)[0],\n",
    "            x_cur[1] - gamma * grad(*x_cur)[1])\n",
    "    if i > 50000:\n",
    "        break\n",
    "    x_cur = x_new\n",
    "    vals.append(f(*x_cur))\n",
    "    coords.append(x_cur)\n",
    "    i += 1\n",
    "    print(f\"iter={i}; x=({x_cur[0]:.4f}, {x_cur[1]:.4f});\"\n",
    "          f\" f(x)={f(*x_cur):.4f}; grad f(x)=({grad(*x_cur)[0]:.4f}, {grad(*x_cur)[1]:.4f})\")"
   ]
  },
  {
   "cell_type": "code",
   "execution_count": null,
   "metadata": {},
   "outputs": [],
   "source": [
    "from scipy import optimize"
   ]
  },
  {
   "cell_type": "code",
   "execution_count": null,
   "metadata": {},
   "outputs": [],
   "source": [
    "optimize.minimize(lambda x: f(*x), x0=(0, 0)) "
   ]
  },
  {
   "cell_type": "code",
   "execution_count": null,
   "metadata": {},
   "outputs": [],
   "source": []
  }
 ],
 "metadata": {
  "kernelspec": {
   "display_name": "Python 3.8.13 ('sf')",
   "language": "python",
   "name": "python3"
  },
  "language_info": {
   "codemirror_mode": {
    "name": "ipython",
    "version": 3
   },
   "file_extension": ".py",
   "mimetype": "text/x-python",
   "name": "python",
   "nbconvert_exporter": "python",
   "pygments_lexer": "ipython3",
   "version": "3.8.13"
  },
  "vscode": {
   "interpreter": {
    "hash": "8735010b092e0503e8d34865b02b1302d4a926fff961a3bbb94d7f101832b68a"
   }
  }
 },
 "nbformat": 4,
 "nbformat_minor": 2
}
