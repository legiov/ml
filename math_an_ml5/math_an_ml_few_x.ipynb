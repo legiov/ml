{
 "cells": [
  {
   "cell_type": "code",
   "execution_count": 37,
   "metadata": {},
   "outputs": [],
   "source": [
    "import sympy\n",
    "import numpy as np\n",
    "from sympy import symbols, cos, diff, sin\n",
    "from sympy import solveset, Eq\n",
    "from sympy import *"
   ]
  },
  {
   "cell_type": "code",
   "execution_count": 5,
   "metadata": {},
   "outputs": [
    {
     "data": {
      "text/plain": [
       "2.23606797749979"
      ]
     },
     "execution_count": 5,
     "metadata": {},
     "output_type": "execute_result"
    }
   ],
   "source": [
    "np.sqrt(5)"
   ]
  },
  {
   "cell_type": "code",
   "execution_count": 6,
   "metadata": {},
   "outputs": [
    {
     "data": {
      "text/plain": [
       "0.9820137900379085"
      ]
     },
     "execution_count": 6,
     "metadata": {},
     "output_type": "execute_result"
    }
   ],
   "source": [
    "1/(1 + np.exp(-4))"
   ]
  },
  {
   "cell_type": "code",
   "execution_count": 7,
   "metadata": {},
   "outputs": [
    {
     "data": {
      "text/plain": [
       "0.7310585786300049"
      ]
     },
     "execution_count": 7,
     "metadata": {},
     "output_type": "execute_result"
    }
   ],
   "source": [
    "1/(1 + np.exp(-1))"
   ]
  },
  {
   "cell_type": "code",
   "execution_count": 8,
   "metadata": {},
   "outputs": [
    {
     "data": {
      "text/plain": [
       "4.83"
      ]
     },
     "execution_count": 8,
     "metadata": {},
     "output_type": "execute_result"
    }
   ],
   "source": [
    "0.1**2 + 1.1**2 + 1.9**2"
   ]
  },
  {
   "cell_type": "code",
   "execution_count": 10,
   "metadata": {},
   "outputs": [
    {
     "data": {
      "text/latex": [
       "$\\displaystyle 2 a + 5 b - \\cos{\\left(c \\right)}$"
      ],
      "text/plain": [
       "2*a + 5*b - cos(c)"
      ]
     },
     "execution_count": 10,
     "metadata": {},
     "output_type": "execute_result"
    }
   ],
   "source": [
    "a, b, c = symbols('a b c', real=True)\n",
    "f = 5*a*b - a*cos(c) + a**2 + c**8*b\n",
    "f.diff(a)"
   ]
  },
  {
   "cell_type": "code",
   "execution_count": 11,
   "metadata": {},
   "outputs": [
    {
     "data": {
      "text/latex": [
       "$\\displaystyle 2 a + 5 b - \\cos{\\left(c \\right)}$"
      ],
      "text/plain": [
       "2*a + 5*b - cos(c)"
      ]
     },
     "execution_count": 11,
     "metadata": {},
     "output_type": "execute_result"
    }
   ],
   "source": [
    "diff(f, a)"
   ]
  },
  {
   "cell_type": "code",
   "execution_count": 12,
   "metadata": {},
   "outputs": [
    {
     "data": {
      "text/latex": [
       "$\\displaystyle 2 x$"
      ],
      "text/plain": [
       "2*x"
      ]
     },
     "execution_count": 12,
     "metadata": {},
     "output_type": "execute_result"
    }
   ],
   "source": [
    "x, y = symbols('x y', real=True)\n",
    "f = x**2 - y**2\n",
    "f.diff(x)"
   ]
  },
  {
   "cell_type": "code",
   "execution_count": 13,
   "metadata": {},
   "outputs": [
    {
     "data": {
      "text/latex": [
       "$\\displaystyle - 2 y$"
      ],
      "text/plain": [
       "-2*y"
      ]
     },
     "execution_count": 13,
     "metadata": {},
     "output_type": "execute_result"
    }
   ],
   "source": [
    "f.diff(y)"
   ]
  },
  {
   "cell_type": "code",
   "execution_count": 16,
   "metadata": {},
   "outputs": [
    {
     "data": {
      "text/latex": [
       "$\\displaystyle -4$"
      ],
      "text/plain": [
       "-4"
      ]
     },
     "execution_count": 16,
     "metadata": {},
     "output_type": "execute_result"
    }
   ],
   "source": [
    "fdx = f.diff(x)\n",
    "fdy = f.diff(y)\n",
    "fdx.subs({x:-2, y:-1})"
   ]
  },
  {
   "cell_type": "code",
   "execution_count": 17,
   "metadata": {},
   "outputs": [
    {
     "data": {
      "text/latex": [
       "$\\displaystyle 2$"
      ],
      "text/plain": [
       "2"
      ]
     },
     "execution_count": 17,
     "metadata": {},
     "output_type": "execute_result"
    }
   ],
   "source": [
    "fdy.subs({x:-2, y:-1})"
   ]
  },
  {
   "cell_type": "code",
   "execution_count": 19,
   "metadata": {},
   "outputs": [
    {
     "data": {
      "text/latex": [
       "$\\displaystyle 2 x + 3 y$"
      ],
      "text/plain": [
       "2*x + 3*y"
      ]
     },
     "execution_count": 19,
     "metadata": {},
     "output_type": "execute_result"
    }
   ],
   "source": [
    "p = {x:1, y:1}\n",
    "f = x**2 + 3*x*y + 4*y**2\n",
    "fdx = f.diff(x)\n",
    "fdx"
   ]
  },
  {
   "cell_type": "code",
   "execution_count": 20,
   "metadata": {},
   "outputs": [
    {
     "data": {
      "text/latex": [
       "$\\displaystyle 3 x + 8 y$"
      ],
      "text/plain": [
       "3*x + 8*y"
      ]
     },
     "execution_count": 20,
     "metadata": {},
     "output_type": "execute_result"
    }
   ],
   "source": [
    "fdy = f.diff(y)\n",
    "fdy"
   ]
  },
  {
   "cell_type": "code",
   "execution_count": 21,
   "metadata": {},
   "outputs": [
    {
     "data": {
      "text/latex": [
       "$\\displaystyle 5$"
      ],
      "text/plain": [
       "5"
      ]
     },
     "execution_count": 21,
     "metadata": {},
     "output_type": "execute_result"
    }
   ],
   "source": [
    "fdx.subs(p)"
   ]
  },
  {
   "cell_type": "code",
   "execution_count": 22,
   "metadata": {},
   "outputs": [
    {
     "data": {
      "text/latex": [
       "$\\displaystyle 11$"
      ],
      "text/plain": [
       "11"
      ]
     },
     "execution_count": 22,
     "metadata": {},
     "output_type": "execute_result"
    }
   ],
   "source": [
    "fdy.subs(p)"
   ]
  },
  {
   "cell_type": "code",
   "execution_count": 24,
   "metadata": {},
   "outputs": [
    {
     "data": {
      "text/latex": [
       "$\\displaystyle y \\cos{\\left(x \\right)}$"
      ],
      "text/plain": [
       "y*cos(x)"
      ]
     },
     "execution_count": 24,
     "metadata": {},
     "output_type": "execute_result"
    }
   ],
   "source": [
    "u = y*sin(x) + sin(y)\n",
    "u.diff(x)"
   ]
  },
  {
   "cell_type": "code",
   "execution_count": 25,
   "metadata": {},
   "outputs": [
    {
     "data": {
      "text/latex": [
       "$\\displaystyle \\sin{\\left(x \\right)} + \\cos{\\left(y \\right)}$"
      ],
      "text/plain": [
       "sin(x) + cos(y)"
      ]
     },
     "execution_count": 25,
     "metadata": {},
     "output_type": "execute_result"
    }
   ],
   "source": [
    "u.diff(y)"
   ]
  },
  {
   "cell_type": "code",
   "execution_count": 26,
   "metadata": {},
   "outputs": [
    {
     "data": {
      "text/latex": [
       "$\\displaystyle - 6 x^{2} - 6 x + 12$"
      ],
      "text/plain": [
       "-6*x**2 - 6*x + 12"
      ]
     },
     "execution_count": 26,
     "metadata": {},
     "output_type": "execute_result"
    }
   ],
   "source": [
    "f = - 2*x**3 - 3*x**2 + 12*x - 4\n",
    "fdx = f.diff(x)\n",
    "fdx"
   ]
  },
  {
   "cell_type": "code",
   "execution_count": 30,
   "metadata": {},
   "outputs": [
    {
     "data": {
      "text/latex": [
       "$\\displaystyle \\left\\{-2, 1\\right\\}$"
      ],
      "text/plain": [
       "{-2, 1}"
      ]
     },
     "execution_count": 30,
     "metadata": {},
     "output_type": "execute_result"
    }
   ],
   "source": [
    "solveset(Eq(fdx, 0), x)"
   ]
  },
  {
   "cell_type": "code",
   "execution_count": 34,
   "metadata": {},
   "outputs": [
    {
     "data": {
      "text/latex": [
       "$\\displaystyle -24$"
      ],
      "text/plain": [
       "-24"
      ]
     },
     "execution_count": 34,
     "metadata": {},
     "output_type": "execute_result"
    }
   ],
   "source": [
    "fdx.subs(x, 2)"
   ]
  },
  {
   "cell_type": "code",
   "execution_count": 38,
   "metadata": {},
   "outputs": [
    {
     "data": {
      "text/plain": [
       "{x: 2, y: -3}"
      ]
     },
     "execution_count": 38,
     "metadata": {},
     "output_type": "execute_result"
    }
   ],
   "source": [
    "f = 4*x**2 - 6*x*y - 34*x + 5*y**2 + 42*y + 7\n",
    "dfx = f.diff(x)\n",
    "dfy = f.diff(y)\n",
    "solve([dfx, dfy], [x, y])\n",
    "\n"
   ]
  },
  {
   "cell_type": "code",
   "execution_count": 40,
   "metadata": {},
   "outputs": [
    {
     "data": {
      "text/latex": [
       "$\\displaystyle 3 x^{2} - 2 y$"
      ],
      "text/plain": [
       "3*x**2 - 2*y"
      ]
     },
     "execution_count": 40,
     "metadata": {},
     "output_type": "execute_result"
    }
   ],
   "source": [
    "f = x**3 - 2*x*y - y**6\n",
    "dfx = f.diff(x)\n",
    "dfx"
   ]
  },
  {
   "cell_type": "code",
   "execution_count": 42,
   "metadata": {},
   "outputs": [
    {
     "data": {
      "text/latex": [
       "$\\displaystyle - 2 x - 6 y^{5}$"
      ],
      "text/plain": [
       "-2*x - 6*y**5"
      ]
     },
     "execution_count": 42,
     "metadata": {},
     "output_type": "execute_result"
    }
   ],
   "source": [
    "dfy = f.diff(y)\n",
    "dfy"
   ]
  },
  {
   "cell_type": "code",
   "execution_count": 43,
   "metadata": {},
   "outputs": [
    {
     "data": {
      "text/latex": [
       "$\\displaystyle 6 x$"
      ],
      "text/plain": [
       "6*x"
      ]
     },
     "execution_count": 43,
     "metadata": {},
     "output_type": "execute_result"
    }
   ],
   "source": [
    "dfxx = dfx.diff(x)\n",
    "dfxx"
   ]
  },
  {
   "cell_type": "code",
   "execution_count": 44,
   "metadata": {},
   "outputs": [
    {
     "data": {
      "text/latex": [
       "$\\displaystyle -2$"
      ],
      "text/plain": [
       "-2"
      ]
     },
     "execution_count": 44,
     "metadata": {},
     "output_type": "execute_result"
    }
   ],
   "source": [
    "dfxy = dfx.diff(y)\n",
    "dfxy"
   ]
  },
  {
   "cell_type": "code",
   "execution_count": 46,
   "metadata": {},
   "outputs": [
    {
     "data": {
      "text/latex": [
       "$\\displaystyle - 30 y^{4}$"
      ],
      "text/plain": [
       "-30*y**4"
      ]
     },
     "execution_count": 46,
     "metadata": {},
     "output_type": "execute_result"
    }
   ],
   "source": [
    "dfyy = dfy.diff(y)\n",
    "dfyy"
   ]
  },
  {
   "cell_type": "code",
   "execution_count": 47,
   "metadata": {},
   "outputs": [
    {
     "data": {
      "text/latex": [
       "$\\displaystyle -480$"
      ],
      "text/plain": [
       "-480"
      ]
     },
     "execution_count": 47,
     "metadata": {},
     "output_type": "execute_result"
    }
   ],
   "source": [
    "dfyy.subs(y, 2)"
   ]
  },
  {
   "cell_type": "code",
   "execution_count": 54,
   "metadata": {},
   "outputs": [
    {
     "name": "stdout",
     "output_type": "stream",
     "text": [
      "[[   6   -2]\n",
      " [  -2 -480]]\n"
     ]
    }
   ],
   "source": [
    "p = {x:1, y:2}\n",
    "a = np.array([[int(dfxx.subs(p)), int(dfxy.subs(p))], [int(dfxy.subs(p)), int(dfyy.subs(p))]])\n",
    "print(a)"
   ]
  },
  {
   "cell_type": "code",
   "execution_count": 55,
   "metadata": {},
   "outputs": [
    {
     "data": {
      "text/plain": [
       "-2884.0000000000014"
      ]
     },
     "execution_count": 55,
     "metadata": {},
     "output_type": "execute_result"
    }
   ],
   "source": [
    "np.linalg.det(a)"
   ]
  },
  {
   "cell_type": "code",
   "execution_count": 61,
   "metadata": {},
   "outputs": [],
   "source": [
    "f = x**3 + y**3 - 3*x*y\n",
    "fdx = f.diff(x)\n",
    "fdy = f.diff(y)\n",
    "r = solve([Eq(fdx, 0), Eq(fdy, 0)], [x, y])"
   ]
  },
  {
   "cell_type": "code",
   "execution_count": 68,
   "metadata": {},
   "outputs": [
    {
     "name": "stdout",
     "output_type": "stream",
     "text": [
      "[[ 0. -3.]\n",
      " [-3.  0.]]\n"
     ]
    }
   ],
   "source": [
    "p1 = {x: r[0][0], y: r[0][1]}\n",
    "p2 = {x: r[1][0], y: r[1][1]}\n",
    "fdxx = fdx.diff(x)\n",
    "fdxy = fdx.diff(y)\n",
    "fdyy = fdy.diff(y)\n",
    "fdxx.subs(p1)\n",
    "a = np.array([[float(fdxx.subs(p1)), float(fdxy.subs(p1))], [float(fdxy.subs(p1)), float(fdyy.subs(p1))]])\n",
    "print(a)"
   ]
  },
  {
   "cell_type": "code",
   "execution_count": 69,
   "metadata": {},
   "outputs": [
    {
     "name": "stdout",
     "output_type": "stream",
     "text": [
      "-9.000000000000002\n"
     ]
    }
   ],
   "source": [
    "print(np.linalg.det(a))"
   ]
  },
  {
   "cell_type": "code",
   "execution_count": 70,
   "metadata": {},
   "outputs": [
    {
     "data": {
      "text/plain": [
       "27.0"
      ]
     },
     "execution_count": 70,
     "metadata": {},
     "output_type": "execute_result"
    }
   ],
   "source": [
    "a = np.array([[float(fdxx.subs(p2)), float(fdxy.subs(p2))], [float(fdxy.subs(p2)), float(fdyy.subs(p2))]])\n",
    "np.linalg.det(a)"
   ]
  },
  {
   "cell_type": "code",
   "execution_count": 75,
   "metadata": {},
   "outputs": [],
   "source": [
    "x, y, l = symbols('x y l', real = True)"
   ]
  },
  {
   "cell_type": "code",
   "execution_count": 76,
   "metadata": {},
   "outputs": [
    {
     "data": {
      "text/latex": [
       "$\\displaystyle - 2 l x + 4$"
      ],
      "text/plain": [
       "-2*l*x + 4"
      ]
     },
     "execution_count": 76,
     "metadata": {},
     "output_type": "execute_result"
    }
   ],
   "source": [
    "f = 4*x + 3*y - l*(x**2 + y**2 - 1)\n",
    "dfx = f.diff(x)\n",
    "dfy = f.diff(y)\n",
    "dfl = f.diff(l)\n",
    "dfx"
   ]
  },
  {
   "cell_type": "code",
   "execution_count": 77,
   "metadata": {},
   "outputs": [
    {
     "data": {
      "text/plain": [
       "[(-4/5, -3/5, -5/2), (4/5, 3/5, 5/2)]"
      ]
     },
     "execution_count": 77,
     "metadata": {},
     "output_type": "execute_result"
    }
   ],
   "source": [
    "solve([Eq(dfx, 0), Eq(dfy, 0), Eq(dfl, 0)], [x, y, l])"
   ]
  },
  {
   "cell_type": "code",
   "execution_count": 80,
   "metadata": {},
   "outputs": [
    {
     "name": "stdout",
     "output_type": "stream",
     "text": [
      "Целевая функция для аргументов a и b:\n",
      " f= 3*a**2 + a + 5*b**2 + 4*b\n",
      "Функция орграничений:  a + b - 200 =0\n",
      "Функция Лагранжа: \n",
      " 3*a**2 + a + 5*b**2 + 4*b + l*(a + b - 200)\n",
      "df/da= 6*a + l + 1  = 0\n",
      "df/db= 10*b + l + 4  = 0\n",
      "df/dl= a + b - 200  = 0\n",
      "Стационарная точка M(x,y):\n",
      " 125.1875 , 74.8125\n"
     ]
    }
   ],
   "source": [
    "a, b, l = symbols('a b l')\n",
    "g = 3*a**2 + a + 4*b + 5*b**2\n",
    "print('Целевая функция для аргументов a и b:\\n f=', g)\n",
    "q = a + b - 200\n",
    "print('Функция орграничений: ', q, '=0')\n",
    "f = g + l*q\n",
    "print('Функция Лагранжа: \\n', f)\n",
    "dfa = f.diff(a)\n",
    "dfb = f.diff(b)\n",
    "dfl = f.diff(l)\n",
    "print('df/da=', dfa, ' = 0')\n",
    "print('df/db=', dfb, ' = 0')\n",
    "print('df/dl=', dfl, ' = 0')\n",
    "sols = solve([dfa, dfb, dfl], a, b, l)\n",
    "print('Стационарная точка M(x,y):\\n', float(sols[a]), ',', float(sols[b]))"
   ]
  },
  {
   "cell_type": "code",
   "execution_count": 81,
   "metadata": {},
   "outputs": [
    {
     "data": {
      "text/plain": [
       "[(1.00000000000000, 0.0, 0.707106781186548)]"
      ]
     },
     "execution_count": 81,
     "metadata": {},
     "output_type": "execute_result"
    }
   ],
   "source": [
    "g = ((x - 2)**2 + (y - 1)**2)**0.5\n",
    "q = x + y - 1\n",
    "f = g + l*q\n",
    "dfx = f.diff(x)\n",
    "dfy = f.diff(y)\n",
    "dfl = f.diff(l)\n",
    "sols = solve([dfx, dfy, dfl], x, y, l)\n",
    "sols"
   ]
  },
  {
   "cell_type": "code",
   "execution_count": 87,
   "metadata": {},
   "outputs": [
    {
     "data": {
      "text/plain": [
       "[(1, -4),\n",
       " (-1/2 - sqrt(3)*I/2, 2 - 2*sqrt(3)*I),\n",
       " (-1/2 + sqrt(3)*I/2, 2 + 2*sqrt(3)*I)]"
      ]
     },
     "execution_count": 87,
     "metadata": {},
     "output_type": "execute_result"
    }
   ],
   "source": [
    "x,l = symbols('x l')\n",
    "q = x**3 - 1\n",
    "g = 6*x**2\n",
    "f = g + l*q\n",
    "dfx = f.diff(x)\n",
    "dfl = f.diff(l)\n",
    "\n",
    "sols = solve([dfx, dfl], [x, l])\n",
    "sols"
   ]
  },
  {
   "cell_type": "code",
   "execution_count": 89,
   "metadata": {},
   "outputs": [
    {
     "data": {
      "text/plain": [
       "[(4, -2, 0, 6, 4, w), (5, 0, -1, 5, 5, w)]"
      ]
     },
     "execution_count": 89,
     "metadata": {},
     "output_type": "execute_result"
    }
   ],
   "source": [
    "a, b, c, x, y, w = symbols('a b c x y w')\n",
    "fa = -x + a - b\n",
    "fb = -y + a\n",
    "fc = 2*b*c\n",
    "fx = x + y - 10\n",
    "fy = -x + 6 + c\n",
    "sols = solve([fa, fb, fc, fx, fy], a, b, c, x, y, w)\n",
    "sols"
   ]
  }
 ],
 "metadata": {
  "kernelspec": {
   "display_name": "Python 3.8.13 ('sf')",
   "language": "python",
   "name": "python3"
  },
  "language_info": {
   "codemirror_mode": {
    "name": "ipython",
    "version": 3
   },
   "file_extension": ".py",
   "mimetype": "text/x-python",
   "name": "python",
   "nbconvert_exporter": "python",
   "pygments_lexer": "ipython3",
   "version": "3.8.13"
  },
  "orig_nbformat": 4,
  "vscode": {
   "interpreter": {
    "hash": "8735010b092e0503e8d34865b02b1302d4a926fff961a3bbb94d7f101832b68a"
   }
  }
 },
 "nbformat": 4,
 "nbformat_minor": 2
}
